{
 "cells": [
  {
   "cell_type": "code",
   "execution_count": 52,
   "metadata": {},
   "outputs": [],
   "source": [
    "%matplotlib inline"
   ]
  },
  {
   "cell_type": "markdown",
   "metadata": {},
   "source": [
    "# Accessing a Web Feature Service with Python"
   ]
  },
  {
   "cell_type": "markdown",
   "metadata": {},
   "source": [
    "This notebook demonstrates how to programmatically access an OGC Web Feature Service from the National Environmental Information Infrastructure using Python. In this example the service endpoing is known but could be found from the catalogue (see Accessing the Catalogue example).\n",
    "\n",
    "To access the WFS service we can use the OWSLib Python library."
   ]
  },
  {
   "cell_type": "markdown",
   "metadata": {},
   "source": [
    "First we need to import the WebFeatureService class"
   ]
  },
  {
   "cell_type": "code",
   "execution_count": 2,
   "metadata": {},
   "outputs": [],
   "source": [
    "from owslib.wfs import WebFeatureService"
   ]
  },
  {
   "cell_type": "code",
   "execution_count": 3,
   "metadata": {},
   "outputs": [],
   "source": [
    "#from owslib import fes"
   ]
  },
  {
   "cell_type": "markdown",
   "metadata": {},
   "source": [
    "Now we can instantiate an OWSLib object that connects to the Web Feature Service, and check the title and abstract of the service."
   ]
  },
  {
   "cell_type": "code",
   "execution_count": 4,
   "metadata": {},
   "outputs": [],
   "source": [
    "wfs=WebFeatureService('http://www.environment.gov.au/mapping/services/ogc_services/World_Heritage_Areas_label/MapServer/WFSServer')"
   ]
  },
  {
   "cell_type": "code",
   "execution_count": 5,
   "metadata": {},
   "outputs": [
    {
     "ename": "AttributeError",
     "evalue": "'ServiceIdentification' object has no attribute 'service'",
     "output_type": "error",
     "traceback": [
      "\u001b[0;31m---------------------------------------------------------------------------\u001b[0m",
      "\u001b[0;31mAttributeError\u001b[0m                            Traceback (most recent call last)",
      "\u001b[0;32m<ipython-input-5-65cad1c18383>\u001b[0m in \u001b[0;36m<module>\u001b[0;34m()\u001b[0m\n\u001b[0;32m----> 1\u001b[0;31m \u001b[0mwfs\u001b[0m\u001b[0;34m.\u001b[0m\u001b[0midentification\u001b[0m\u001b[0;34m.\u001b[0m\u001b[0mservice\u001b[0m\u001b[0;34m\u001b[0m\u001b[0m\n\u001b[0m",
      "\u001b[0;31mAttributeError\u001b[0m: 'ServiceIdentification' object has no attribute 'service'"
     ]
    }
   ],
   "source": [
    "wfs.identification.service"
   ]
  },
  {
   "cell_type": "code",
   "execution_count": null,
   "metadata": {},
   "outputs": [],
   "source": [
    "wfs.identification.keywords"
   ]
  },
  {
   "cell_type": "code",
   "execution_count": null,
   "metadata": {},
   "outputs": [],
   "source": [
    "wfs.identification.accessConstraints"
   ]
  },
  {
   "cell_type": "code",
   "execution_count": null,
   "metadata": {},
   "outputs": [],
   "source": [
    "wfs.identification.title"
   ]
  },
  {
   "cell_type": "code",
   "execution_count": null,
   "metadata": {},
   "outputs": [],
   "source": [
    "wfs.identification.abstract"
   ]
  },
  {
   "cell_type": "code",
   "execution_count": 6,
   "metadata": {},
   "outputs": [
    {
     "data": {
      "text/plain": [
       "['__class__',\n",
       " '__delattr__',\n",
       " '__dict__',\n",
       " '__dir__',\n",
       " '__doc__',\n",
       " '__eq__',\n",
       " '__format__',\n",
       " '__ge__',\n",
       " '__getattribute__',\n",
       " '__gt__',\n",
       " '__hash__',\n",
       " '__init__',\n",
       " '__le__',\n",
       " '__lt__',\n",
       " '__module__',\n",
       " '__ne__',\n",
       " '__new__',\n",
       " '__reduce__',\n",
       " '__reduce_ex__',\n",
       " '__repr__',\n",
       " '__setattr__',\n",
       " '__sizeof__',\n",
       " '__str__',\n",
       " '__subclasshook__',\n",
       " '__weakref__',\n",
       " '_root',\n",
       " 'abstract',\n",
       " 'accessconstraints',\n",
       " 'fees',\n",
       " 'keywords',\n",
       " 'title',\n",
       " 'type',\n",
       " 'version']"
      ]
     },
     "execution_count": 6,
     "metadata": {},
     "output_type": "execute_result"
    }
   ],
   "source": [
    "dir(wfs.identification)"
   ]
  },
  {
   "cell_type": "code",
   "execution_count": 7,
   "metadata": {},
   "outputs": [
    {
     "data": {
      "text/plain": [
       "'World_Heritage_Areas_label'"
      ]
     },
     "execution_count": 7,
     "metadata": {},
     "output_type": "execute_result"
    }
   ],
   "source": [
    "wfs.provider.name"
   ]
  },
  {
   "cell_type": "code",
   "execution_count": 8,
   "metadata": {},
   "outputs": [
    {
     "data": {
      "text/plain": [
       "['ogc_services_World_Heritage_Areas_label:World_Heritage_Areas_Australia_label']"
      ]
     },
     "execution_count": 8,
     "metadata": {},
     "output_type": "execute_result"
    }
   ],
   "source": [
    "sorted(wfs.contents.keys())"
   ]
  },
  {
   "cell_type": "code",
   "execution_count": 9,
   "metadata": {},
   "outputs": [
    {
     "data": {
      "text/plain": [
       "['__class__',\n",
       " '__delattr__',\n",
       " '__dict__',\n",
       " '__dir__',\n",
       " '__doc__',\n",
       " '__eq__',\n",
       " '__format__',\n",
       " '__ge__',\n",
       " '__getattribute__',\n",
       " '__gt__',\n",
       " '__hash__',\n",
       " '__init__',\n",
       " '__le__',\n",
       " '__lt__',\n",
       " '__module__',\n",
       " '__ne__',\n",
       " '__new__',\n",
       " '__reduce__',\n",
       " '__reduce_ex__',\n",
       " '__repr__',\n",
       " '__setattr__',\n",
       " '__sizeof__',\n",
       " '__str__',\n",
       " '__subclasshook__',\n",
       " '__weakref__',\n",
       " 'abstract',\n",
       " 'boundingBox',\n",
       " 'boundingBoxWGS84',\n",
       " 'crsOptions',\n",
       " 'defaulttimeposition',\n",
       " 'id',\n",
       " 'keywords',\n",
       " 'metadataUrls',\n",
       " 'styles',\n",
       " 'timepositions',\n",
       " 'title',\n",
       " 'verbOptions']"
      ]
     },
     "execution_count": 9,
     "metadata": {},
     "output_type": "execute_result"
    }
   ],
   "source": [
    "dir(wfs.contents['ogc_services_World_Heritage_Areas_label:World_Heritage_Areas_Australia_label'])"
   ]
  },
  {
   "cell_type": "code",
   "execution_count": 10,
   "metadata": {},
   "outputs": [],
   "source": [
    "feature = wfs.getfeature(typename=['ogc_services_World_Heritage_Areas_label:World_Heritage_Areas_Australia_label'], maxfeatures=1, propertyname=None)"
   ]
  },
  {
   "cell_type": "code",
   "execution_count": 11,
   "metadata": {},
   "outputs": [
    {
     "data": {
      "text/plain": [
       "<_io.StringIO at 0x7faec5ca2798>"
      ]
     },
     "execution_count": 11,
     "metadata": {},
     "output_type": "execute_result"
    }
   ],
   "source": [
    "feature"
   ]
  },
  {
   "cell_type": "code",
   "execution_count": 12,
   "metadata": {},
   "outputs": [
    {
     "data": {
      "text/plain": [
       "'<wfs:FeatureCollection xsi:schemaLocation=\\'http://www.environment.gov.au/mapping/services/ogc_services//World_Heritage_Areas_label/MapServer/WFSServer http://www.environment.gov.au/mapping/services/ogc_services/World_Heritage_Areas_label/MapServer/WFSServer?request=DescribeFeatureType%26version=1.0.0%26typename=World_Heritage_Areas_Australia_label http://www.opengis.net/wfs http://schemas.opengis.net/wfs/1.0.0/WFS-basic.xsd http://www.opengis.net/gml http://schemas.opengis.net/gml/2.1.2.1/feature.xsd\\' xmlns:ogc_services_World_Heritage_Areas_label=\\'http://www.environment.gov.au/mapping/services/ogc_services//World_Heritage_Areas_label/MapServer/WFSServer\\' xmlns:gml=\\'http://www.opengis.net/gml\\' xmlns:wfs=\\'http://www.opengis.net/wfs\\' xmlns:xlink=\\'http://www.w3.org/1999/xlink\\' xmlns:xsi=\\'http://www.w3.org/2001/XMLSchema-instance\\'><gml:boundedBy><gml:Box srsName=\\'EPSG:4283\\'><gml:coordinates>72.246193176999995,-55.322817460000003 167.97283925400001,-10.681888948999999</gml:coordinates></gml:Box></gml:boundedBy><gml:featureMember><ogc_services_World_Heritage_Areas_label:World_Heritage_Areas_Australia_label fid=\\'F911__379\\'><ogc_services_World_Heritage_Areas_label:OBJECTID>379</ogc_services_World_Heritage_Areas_label:OBJECTID><ogc_services_World_Heritage_Areas_label:PLACE_ID>106209</ogc_services_World_Heritage_Areas_label:PLACE_ID><ogc_services_World_Heritage_Areas_label:FILE_>1/12/036/0015</ogc_services_World_Heritage_Areas_label:FILE_><ogc_services_World_Heritage_Areas_label:NAME>Australian Convict Sites (Hyde Park Barracks Buffer Zone)</ogc_services_World_Heritage_Areas_label:NAME><ogc_services_World_Heritage_Areas_label:STATUS>Buffer zone</ogc_services_World_Heritage_Areas_label:STATUS><ogc_services_World_Heritage_Areas_label:IUCN_MGT>Unassigned</ogc_services_World_Heritage_Areas_label:IUCN_MGT><ogc_services_World_Heritage_Areas_label:BIOGEOPROV>Not applicable</ogc_services_World_Heritage_Areas_label:BIOGEOPROV><ogc_services_World_Heritage_Areas_label:CULTURAL>iv,vi</ogc_services_World_Heritage_Areas_label:CULTURAL><ogc_services_World_Heritage_Areas_label:STATE>NSW</ogc_services_World_Heritage_Areas_label:STATE><ogc_services_World_Heritage_Areas_label:HECTARES>5.7934139299999998</ogc_services_World_Heritage_Areas_label:HECTARES><ogc_services_World_Heritage_Areas_label:ADDRESS>Queens Square/10 Macquarie St, Sydney NSW</ogc_services_World_Heritage_Areas_label:ADDRESS><ogc_services_World_Heritage_Areas_label:INSCRIBED>2010</ogc_services_World_Heritage_Areas_label:INSCRIBED><ogc_services_World_Heritage_Areas_label:Shape><gml:MultiPolygon srsName=\"EPSG:4283\"><gml:polygonMember><gml:Polygon><gml:outerBoundaryIs><gml:LinearRing><gml:coordinates> 151.21343456800003,-33.868783601000018 151.21333418500001,-33.868772633999981 151.21274745699998,-33.868720418000009 151.21246561999999,-33.868695274000004 151.21231440700001,-33.868681863999996 151.21224888999996,-33.868676056000027 151.21198931200001,-33.868654928000012 151.211986809,-33.868674406000025 151.21197529100004,-33.868756382000015 151.21196342999997,-33.868842911000002 151.21195150400001,-33.868930668000019 151.21158885399996,-33.868888368 151.21148000400001,-33.868875700999979 151.211410462,-33.868867605999981 151.21140640099998,-33.868867131000002 151.21139654000001,-33.868865984000024 151.21119689499994,-33.868848710999998 151.21115390299997,-33.869170329999974 151.21111456899996,-33.869166743999983 151.21109147799996,-33.869329655000001 151.21094186000005,-33.869316719999972 151.21089990899998,-33.869313089999991 151.21089315899997,-33.869315670999981 151.21088688400005,-33.869318989000021 151.21088118399996,-33.869322977000024 151.21087616299997,-33.869327602999988 151.21087724799997,-33.869311261000007 151.21049457599997,-33.869278093999981 151.210415173,-33.869954274000008 151.21040240800005,-33.870416411000008 151.210383288,-33.870578292999994 151.21035941800005,-33.870780350000018 151.21035500400001,-33.870817713000008 151.21168587800003,-33.870948696000028 151.21168278599998,-33.870963468000014 151.21168113800002,-33.870983813000009 151.21168223699999,-33.871003606999977 151.21168828500004,-33.871028899999999 151.21169708299999,-33.871048143999985 151.21171357900005,-33.871072336999987 151.21172842399994,-33.871087182999986 151.21174711900005,-33.871100930000011 151.21176911199996,-33.871112476999997 151.21179550500005,-33.871119624000016 151.21182189800004,-33.871122373999981 151.21184499100002,-33.871119073999978 151.21186918399997,-33.871111926000026 151.21189227800005,-33.871101479000004 151.21191207200002,-33.871085533999974 151.21192746700001,-33.871069588000012 151.21193956399998,-33.87105199299998 151.21195056099998,-33.871027249999997 151.21195606000003,-33.871005806000028 151.21195770899999,-33.870983261999982 151.21195725999996,-33.870975405000024 151.21285036999996,-33.871063304000018 151.21287082799995,-33.870908400000019 151.21287357100005,-33.870866708999984 151.21287471000005,-33.870825895999985 151.21287424299999,-33.870785952000006 151.21287217300005,-33.870746876999988 151.21286849800003,-33.870708674000014 151.21286321800005,-33.87067134900002 151.21285632399997,-33.87063488199999 151.21284782700002,-33.870599294999977 151.21283773300001,-33.870564576999982 151.21282602600002,-33.870530739000003 151.21281271500004,-33.870497761000024 151.21279778999997,-33.870465659999979 151.21278126899995,-33.870434421000027 151.21276313500005,-33.870404059999998 151.21274340499997,-33.870374577000007 151.21272206200001,-33.870345955000005 151.212699552,-33.870318714000007 151.21267549499998,-33.87029230600001 151.21266860499998,-33.870285426000009 151.21305768900004,-33.870329056999992 151.21305772699998,-33.87032908499998 151.21306265299995,-33.870329613000024 151.21324800599996,-33.870349487999988 151.21327085500002,-33.870351253000024 151.213293776,-33.870352319999995 151.21331672300005,-33.870352677000028 151.21333967099997,-33.870352336999986 151.21336259199995,-33.870351298000003 151.21338544100001,-33.870349567999995 151.21340821000001,-33.870347121000009 151.21343084399996,-33.870343982999998 151.21345334299997,-33.870340155999997 151.21346851099997,-33.870337088999975 151.21347573499997,-33.87033562900001 151.21349809200001,-33.870330376000027 151.21352019599999,-33.870324442000026 151.21354204199997,-33.870317827000008 151.21356356499996,-33.870310566000001 151.21358476399996,-33.870302642000013 151.21360559699997,-33.870294071999979 151.21362604299998,-33.870284874999982 151.21364606899999,-33.870275058999994 151.21365230799995,-33.870271742999989 151.21366508200003,-33.870264965999979 151.21368336800003,-33.870254468999974 151.21370117100003,-33.870243416999983 151.21399446299995,-33.870038043000022 151.21399082400001,-33.870034717999999 151.21399741300002,-33.870029697999996 151.21400535500004,-33.869999839999991 151.21400816799996,-33.869968127999982 151.21400555499997,-33.869937794000009 151.21399351000002,-33.86989739400002 151.21394343899999,-33.869836481999982 151.21369605300004,-33.869624083000019 151.21361168500005,-33.869537417999993 151.21354216999998,-33.869447557000001 151.21349791900002,-33.869379100999993 151.21346047199995,-33.869296768000027 151.21343453999998,-33.869218391999993 151.21341754800005,-33.869140847999972 151.21340972400003,-33.869076076999988 151.21341708,-33.868931769000028 151.21343456800003,-33.868783601000018</gml:coordinates></gml:LinearRing></gml:outerBoundaryIs><gml:innerBoundaryIs><gml:LinearRing><gml:coordinates> 151.21218444700003,-33.86932462599998 151.21216775599999,-33.869264272000009 151.21223041500002,-33.869266890000006 151.21229314499999,-33.869269453000015 151.21239156900003,-33.86927829199999 151.21247151900002,-33.869285373000025 151.21247153700006,-33.869291684000018 151.21275045100003,-33.869318011000018 151.21278289199995,-33.869320897000023 151.21278395700006,-33.869314585999973 151.21287584799995,-33.869323442999985 151.21287478099998,-33.869328858000017 151.21303370400005,-33.869343908000019 151.21325722100005,-33.869355982999991 151.21326907100001,-33.869356761999995 151.21326801299995,-33.869363072999988 151.21327557899997,-33.869363959999987 151.21327347199997,-33.869381080999972 151.21326771700001,-33.869380060000026 151.21326429299995,-33.869400740999993 151.21326233900004,-33.869411764000006 151.21326558400006,-33.869412662000002 151.21326345900002,-33.869425282999998 151.21325589399999,-33.869424395999999 151.21325590399999,-33.869426206000014 151.21325266700001,-33.869426206000014 151.21324956399997,-33.869446115000017 151.21327557899997,-33.869449728000006 151.21327226200003,-33.869468514999994 151.21323991099996,-33.869690580999986 151.21323291900001,-33.869736537999984 151.21322982699996,-33.869756832999997 151.21322665299999,-33.869778624999981 151.21314018700002,-33.86976778799999 151.21286437399999,-33.869851188999974 151.21286350499997,-33.869858368999985 151.21251572000006,-33.869828966999989 151.21247428000004,-33.869789419000028 151.21233968499996,-33.869773946000009 151.21234990400001,-33.869683032000012 151.21232954699997,-33.869664908000004 151.21228962199996,-33.869617659000028 151.21226514099999,-33.869616690999976 151.21221462899996,-33.869433871000012 151.21218444700003,-33.86932462599998</gml:coordinates></gml:LinearRing></gml:innerBoundaryIs></gml:Polygon></gml:polygonMember></gml:MultiPolygon></ogc_services_World_Heritage_Areas_label:Shape><ogc_services_World_Heritage_Areas_label:SHAPE.AREA>5.6449943192364996e-006</ogc_services_World_Heritage_Areas_label:SHAPE.AREA><ogc_services_World_Heritage_Areas_label:SHAPE.LEN>0.0147213193790198</ogc_services_World_Heritage_Areas_label:SHAPE.LEN></ogc_services_World_Heritage_Areas_label:World_Heritage_Areas_Australia_label></gml:featureMember></wfs:FeatureCollection>'"
      ]
     },
     "execution_count": 12,
     "metadata": {},
     "output_type": "execute_result"
    }
   ],
   "source": [
    "feature.read()"
   ]
  },
  {
   "cell_type": "code",
   "execution_count": 13,
   "metadata": {},
   "outputs": [],
   "source": [
    "#import matplotlib"
   ]
  },
  {
   "cell_type": "code",
   "execution_count": 14,
   "metadata": {},
   "outputs": [],
   "source": [
    "#matplotlib.use('TkAgg')"
   ]
  },
  {
   "cell_type": "code",
   "execution_count": 38,
   "metadata": {},
   "outputs": [],
   "source": [
    "from matplotlib import pyplot as plt"
   ]
  },
  {
   "cell_type": "code",
   "execution_count": 39,
   "metadata": {},
   "outputs": [],
   "source": [
    "import numpy as np"
   ]
  },
  {
   "cell_type": "code",
   "execution_count": 25,
   "metadata": {},
   "outputs": [],
   "source": [
    "from shapely.geometry.polygon import LinearRing, Polygon"
   ]
  },
  {
   "cell_type": "code",
   "execution_count": 64,
   "metadata": {},
   "outputs": [],
   "source": [
    "#dummy points for now\n",
    "poly = Polygon([(0, 0), (0, 2), (1, 1),\n",
    "    (2, 2), (2, 0), (1, 0.8), (0, 0)])"
   ]
  },
  {
   "cell_type": "code",
   "execution_count": 60,
   "metadata": {},
   "outputs": [],
   "source": [
    "x,y=poly.exterior.xy"
   ]
  },
  {
   "cell_type": "code",
   "execution_count": 61,
   "metadata": {},
   "outputs": [
    {
     "data": {
      "text/plain": [
       "array('d', [0.0, 0.0, 1.0, 2.0, 2.0, 1.0, 0.0])"
      ]
     },
     "execution_count": 61,
     "metadata": {},
     "output_type": "execute_result"
    }
   ],
   "source": [
    "x"
   ]
  },
  {
   "cell_type": "code",
   "execution_count": 62,
   "metadata": {},
   "outputs": [
    {
     "data": {
      "text/plain": [
       "array('d', [0.0, 2.0, 1.0, 2.0, 0.0, 0.8, 0.0])"
      ]
     },
     "execution_count": 62,
     "metadata": {},
     "output_type": "execute_result"
    }
   ],
   "source": [
    "y"
   ]
  },
  {
   "cell_type": "code",
   "execution_count": 63,
   "metadata": {},
   "outputs": [
    {
     "data": {
      "image/png": "[encoded data removed]",
      "text/plain": [
       "<matplotlib.figure.Figure at 0x7faec2e29b38>"
      ]
     },
     "metadata": {},
     "output_type": "display_data"
    }
   ],
   "source": [
    "myplot=plt.plot(x, y)"
   ]
  },
  {
   "cell_type": "code",
   "execution_count": null,
   "metadata": {},
   "outputs": [],
   "source": []
  }
 ],
 "metadata": {
  "kernelspec": {
   "display_name": "Python 3",
   "language": "python",
   "name": "python3"
  },
  "language_info": {
   "codemirror_mode": {
    "name": "ipython",
    "version": 3
   },
   "file_extension": ".py",
   "mimetype": "text/x-python",
   "name": "python",
   "nbconvert_exporter": "python",
   "pygments_lexer": "ipython3",
   "version": "3.5.2"
  }
 },
 "nbformat": 4,
 "nbformat_minor": 2
}
