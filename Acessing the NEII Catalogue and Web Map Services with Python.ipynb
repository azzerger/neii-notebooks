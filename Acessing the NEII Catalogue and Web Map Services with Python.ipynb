{
 "cells": [
  {
   "cell_type": "markdown",
   "metadata": {},
   "source": [
    "# Accessing NEII with Python"
   ]
  },
  {
   "cell_type": "markdown",
   "metadata": {},
   "source": [
    "This notebook demonstrates how to programmatically access the National Environmental Information Infrastructure catalogue and data services using Python. First we will search the catalogue. The catalogue is an OGC compliant CSW service. To access this we can use the OWSLib Python library."
   ]
  },
  {
   "cell_type": "markdown",
   "metadata": {},
   "source": [
    "First we need to import the CatalogueServiceWeb class and the filter encoding (fes) module"
   ]
  },
  {
   "cell_type": "code",
   "execution_count": 1,
   "metadata": {},
   "outputs": [],
   "source": [
    "from owslib.csw import CatalogueServiceWeb"
   ]
  },
  {
   "cell_type": "code",
   "execution_count": 2,
   "metadata": {},
   "outputs": [],
   "source": [
    "from owslib import fes"
   ]
  },
  {
   "cell_type": "markdown",
   "metadata": {},
   "source": [
    "Now we can instantiate an OWSLib object that connects to the service, and check the title and abstract of the service."
   ]
  },
  {
   "cell_type": "code",
   "execution_count": 3,
   "metadata": {},
   "outputs": [],
   "source": [
    "c=CatalogueServiceWeb('http://neii.bom.gov.au/services/catalogue/csw')"
   ]
  },
  {
   "cell_type": "code",
   "execution_count": 4,
   "metadata": {},
   "outputs": [],
   "source": [
    "c.identification.title"
   ]
  },
  {
   "cell_type": "code",
   "execution_count": 5,
   "metadata": {},
   "outputs": [],
   "source": [
    "c.identification.abstract"
   ]
  },
  {
   "cell_type": "markdown",
   "metadata": {},
   "source": [
    "To query for some records we need to use the filter encoding specification. You can do various queries e.g. spatial, temporal etc. but here we will do a simple text search for 'Water Observations'"
   ]
  },
  {
   "cell_type": "markdown",
   "metadata": {},
   "source": [
    "First, define the query"
   ]
  },
  {
   "cell_type": "code",
   "execution_count": 6,
   "metadata": {},
   "outputs": [],
   "source": [
    "textQuery= fes.PropertyIsLike('csw:AnyText', 'Water Observations')"
   ]
  },
  {
   "cell_type": "markdown",
   "metadata": {},
   "source": [
    "Then, make the request (in OWSLib use getrecords2 not getrecords which has been deprecated)"
   ]
  },
  {
   "cell_type": "code",
   "execution_count": 7,
   "metadata": {},
   "outputs": [],
   "source": [
    "c.getrecords2(constraints=[textQuery], esn='full', maxrecords=10)"
   ]
  },
  {
   "cell_type": "markdown",
   "metadata": {},
   "source": [
    "And check if there are any results (in this case there are 3 matches)"
   ]
  },
  {
   "cell_type": "code",
   "execution_count": 8,
   "metadata": {},
   "outputs": [
    {
     "data": {
      "text/plain": [
       "{'matches': 3, 'nextrecord': 0, 'returned': 3}"
      ]
     },
     "execution_count": 8,
     "metadata": {},
     "output_type": "execute_result"
    }
   ],
   "source": [
    "c.results"
   ]
  },
  {
   "cell_type": "markdown",
   "metadata": {},
   "source": [
    "Now loop through the results. c.records is a dictionary object so you need to access each item in the dictionary in turn. The following code access a few key properties including the service urls to see if there are any data services for the record."
   ]
  },
  {
   "cell_type": "code",
   "execution_count": 9,
   "metadata": {},
   "outputs": [
    {
     "name": "stdout",
     "output_type": "stream",
     "text": [
      "*********** Record summary ************ \n",
      "\n",
      "ID:2aac3f90-a34e-0548-e053-10a3070a312d\n",
      "Landcover 25 - Water (Water Observations from Space - WOfS) WMS\n",
      "This OGC Web Map Service (WMS) provides access to the Water Observations from Space (WOfS) gridded dataset indicating areas where surface water has been observed using the Geoscience Australia's (GA) Landsat 5 and 7 satellite data holdings.  WOfS covers all of mainland Australia and Tasmania but excludes off-shore Territories.\n",
      "None\n",
      "http://eos.ga.gov.au/geoserver/ows?service=wms&version=1.3.0&request=GetCapabilities\n",
      "\n",
      "*********** End of summary ************ \n",
      "\n",
      "*********** Record summary ************ \n",
      "\n",
      "ID:3440bced-e383-4f39-8991-820aeb9097cb\n",
      "eReefs Marine Water Quality Web Data Services\n",
      "These are the Marine Water Quality data services underlying the <a href=\"http://www.bom.gov.au/marinewaterquality/\" target=\"_blank\">eReefs Marine Water Quality Dashboard</a>..\n",
      "\n",
      "The Dashboard enables access to a range of water-quality indicators for the Great Barrier Reef. It uses near real-time data, and more than ten years of records of sea surface temperatures, chlorophyll levels, suspended sediments, and dissolved organic matter. Data from the Dashboard can be displayed in different formats (map, table or chart) and downloaded for further analysis and interpretation.\n",
      "eReefs - Marine Water Quality product (Daily Composites) - Web Map Service\n",
      "http://ereeftds.bom.gov.au/ereefs/tds/wms/ereefs/mwq_gridAgg_P1D?service=WMS&version=1.3.0&request=GetCapabilities\n",
      "\n",
      "eReefs - Marine Water Quality product (Weekly Composites) - Web Map Service\n",
      "http://ereeftds.bom.gov.au/ereefs/tds/wms/ereefs/mwq_gridAgg_P1W?service=WMS&version=1.3.0&request=GetCapabilities\n",
      "\n",
      "eReefs - Marine Water Quality product (Monthly Composites) - Web Map Service\n",
      "http://ereeftds.bom.gov.au/ereefs/tds/wms/ereefs/mwq_gridAgg_P1M?service=WMS&version=1.3.0&request=GetCapabilities\n",
      "\n",
      "eReefs - Marine Water Quality product (Seasonal Composites) - Web Map Service\n",
      "http://ereeftds.bom.gov.au/ereefs/tds/wms/ereefs/mwq_gridAgg_P6M?service=WMS&version=1.3.0&request=GetCapabilities\n",
      "\n",
      "eReefs - Marine Water Quality product (Annual Composites) - Web Map Service\n",
      "http://ereeftds.bom.gov.au/ereefs/tds/wms/ereefs/mwq_gridAgg_P1A?service=WMS&version=1.3.0&request=GetCapabilities\n",
      "\n",
      "eReefs - Marine Water Quality Products - OPeNDAP (XML)\n",
      "http://ereeftds.bom.gov.au/ereefs/tds/catalog/ereef/mwq/catalog.xml\n",
      "\n",
      "*********** End of summary ************ \n",
      "\n",
      "*********** Record summary ************ \n",
      "\n",
      "ID:34b50bab-8124-4c78-a1d1-a0a83601ec56\n",
      "Australian Gridded Solar Climatology Web Data Services\n",
      "These datasets are long term averages of solar radiation at the surface over the Australian land mass. Applications of these data include solar energy, agriculture, building thermal design and water balance modelling. Climatologies are given for two radiation parameters: the global horizontal exposure, which is the total amount of solar energy falling on a horizontal surface over a time interval; and the direct normal exposure which is the total of the component of radiation from the sun’s disk on a plane perpendicular to the beam. Climatologies of daily exposure are given as an annual average and as a set of twelve monthly averages. Climatologies of the diurnal cycle are given as monthly averages of hourly exposures through the day. These data sets are derived from 23 years (1990 - 2012) of data from satellites operated by Japan Meteorological Agency and the US National Oceanographic & Atmospheric Administration. NEII\n",
      "Solar Climatology - Monthly-hourly climatology of hourly exposure (Global Horizontal Exposure) - Web Map Service\n",
      "http://neii.bom.gov.au/services/solarclim/wms/data/monClim_gloHorExp1Hou.nc?service=WMS&version=1.3.0&request=GetCapabilities\n",
      "\n",
      "Solar Climatology - Monthly-hourly climatology of hourly exposure (Direct Normal Exposure) - Web Map Service\n",
      "http://neii.bom.gov.au/services/solarclim/wms/data/monClim_dirNorExp1Hou.nc?service=WMS&version=1.3.0&request=GetCapabilities\n",
      "\n",
      "Solar Climatology - Monthly climatology of daily exposure (Global Horizontal Exposure) - Web Map Service\n",
      "http://neii.bom.gov.au/services/solarclim/wms/data/monClim_gloHorExp1Day.nc?service=WMS&version=1.3.0&request=GetCapabilities\n",
      "\n",
      "Solar Climatology - Monthly climatology of daily exposure (Direct Normal Exposure) - Web Map Service\n",
      "http://neii.bom.gov.au/services/solarclim/wms/data/monClim_dirNorExp1Day.nc?service=WMS&version=1.3.0&request=GetCapabilities\n",
      "\n",
      "Solar Climatology - Annual climatology of daily exposure (Global Horizontal Exposure) - Web Map Service\n",
      "http://neii.bom.gov.au/services/solarclim/wms/data/annClim_gloHorExp1Day.nc?service=WMS&version=1.3.0&request=GetCapabilities\n",
      "\n",
      "Solar Climatology - Annual climatology of daily exposure (Direct Normal Exposure) - Web Map Service\n",
      "http://neii.bom.gov.au/services/solarclim/wms/data/annClim_dirNorExp1Day.nc?service=WMS&version=1.3.0&request=GetCapabilities\n",
      "\n",
      "Solar Climatology - Solar Climatology data products - OPeNDAP (XML)\n",
      "http://neii.bom.gov.au/services/solarclim/catalog.xml\n",
      "\n",
      "*********** End of summary ************ \n",
      "\n"
     ]
    }
   ],
   "source": [
    "for record in c.records:\n",
    "    cswRecord = c.records[record]\n",
    "    print ('*********** Record summary ************ \\n')\n",
    "    print ('ID:' + cswRecord.identifier)\n",
    "    print (cswRecord.title)\n",
    "    print (cswRecord.abstract)\n",
    "    for service in cswRecord.uris:\n",
    "        print (service['name']) \n",
    "        print (service['url'] + '\\n')\n",
    "    print ('*********** End of summary ************ \\n')"
   ]
  },
  {
   "cell_type": "code",
   "execution_count": 10,
   "metadata": {},
   "outputs": [
    {
     "name": "stdout",
     "output_type": "stream",
     "text": [
      "None\n",
      "http://eos.ga.gov.au/geoserver/ows?service=wms&version=1.3.0&request=GetCapabilities\n",
      "\n",
      "eReefs - Marine Water Quality product (Daily Composites) - Web Map Service\n",
      "http://ereeftds.bom.gov.au/ereefs/tds/wms/ereefs/mwq_gridAgg_P1D?service=WMS&version=1.3.0&request=GetCapabilities\n",
      "\n",
      "eReefs - Marine Water Quality product (Weekly Composites) - Web Map Service\n",
      "http://ereeftds.bom.gov.au/ereefs/tds/wms/ereefs/mwq_gridAgg_P1W?service=WMS&version=1.3.0&request=GetCapabilities\n",
      "\n",
      "eReefs - Marine Water Quality product (Monthly Composites) - Web Map Service\n",
      "http://ereeftds.bom.gov.au/ereefs/tds/wms/ereefs/mwq_gridAgg_P1M?service=WMS&version=1.3.0&request=GetCapabilities\n",
      "\n",
      "eReefs - Marine Water Quality product (Seasonal Composites) - Web Map Service\n",
      "http://ereeftds.bom.gov.au/ereefs/tds/wms/ereefs/mwq_gridAgg_P6M?service=WMS&version=1.3.0&request=GetCapabilities\n",
      "\n",
      "eReefs - Marine Water Quality product (Annual Composites) - Web Map Service\n",
      "http://ereeftds.bom.gov.au/ereefs/tds/wms/ereefs/mwq_gridAgg_P1A?service=WMS&version=1.3.0&request=GetCapabilities\n",
      "\n",
      "eReefs - Marine Water Quality Products - OPeNDAP (XML)\n",
      "http://ereeftds.bom.gov.au/ereefs/tds/catalog/ereef/mwq/catalog.xml\n",
      "\n",
      "Solar Climatology - Monthly-hourly climatology of hourly exposure (Global Horizontal Exposure) - Web Map Service\n",
      "http://neii.bom.gov.au/services/solarclim/wms/data/monClim_gloHorExp1Hou.nc?service=WMS&version=1.3.0&request=GetCapabilities\n",
      "\n",
      "Solar Climatology - Monthly-hourly climatology of hourly exposure (Direct Normal Exposure) - Web Map Service\n",
      "http://neii.bom.gov.au/services/solarclim/wms/data/monClim_dirNorExp1Hou.nc?service=WMS&version=1.3.0&request=GetCapabilities\n",
      "\n",
      "Solar Climatology - Monthly climatology of daily exposure (Global Horizontal Exposure) - Web Map Service\n",
      "http://neii.bom.gov.au/services/solarclim/wms/data/monClim_gloHorExp1Day.nc?service=WMS&version=1.3.0&request=GetCapabilities\n",
      "\n",
      "Solar Climatology - Monthly climatology of daily exposure (Direct Normal Exposure) - Web Map Service\n",
      "http://neii.bom.gov.au/services/solarclim/wms/data/monClim_dirNorExp1Day.nc?service=WMS&version=1.3.0&request=GetCapabilities\n",
      "\n",
      "Solar Climatology - Annual climatology of daily exposure (Global Horizontal Exposure) - Web Map Service\n",
      "http://neii.bom.gov.au/services/solarclim/wms/data/annClim_gloHorExp1Day.nc?service=WMS&version=1.3.0&request=GetCapabilities\n",
      "\n",
      "Solar Climatology - Annual climatology of daily exposure (Direct Normal Exposure) - Web Map Service\n",
      "http://neii.bom.gov.au/services/solarclim/wms/data/annClim_dirNorExp1Day.nc?service=WMS&version=1.3.0&request=GetCapabilities\n",
      "\n",
      "Solar Climatology - Solar Climatology data products - OPeNDAP (XML)\n",
      "http://neii.bom.gov.au/services/solarclim/catalog.xml\n",
      "\n"
     ]
    }
   ],
   "source": [
    "for record in c.records:\n",
    "    cswRecord = c.records[record]\n",
    "    for service in cswRecord.uris:\n",
    "        print (service['name']) \n",
    "        print (service['url'] + '\\n')\n",
    " "
   ]
  },
  {
   "cell_type": "markdown",
   "metadata": {},
   "source": [
    "Now we have found some OGC Web Map Services (WMS) containing Water Observations information. We can use OWSLib again to query a WMS and get back a map image. We will query the GA Water Observations from Space Web Map Service."
   ]
  },
  {
   "cell_type": "code",
   "execution_count": 198,
   "metadata": {},
   "outputs": [],
   "source": [
    "from owslib.wms import WebMapService"
   ]
  },
  {
   "cell_type": "code",
   "execution_count": 199,
   "metadata": {},
   "outputs": [],
   "source": [
    "wms=WebMapService('http://eos.ga.gov.au/geoserver/ows?')"
   ]
  },
  {
   "cell_type": "code",
   "execution_count": 200,
   "metadata": {},
   "outputs": [
    {
     "data": {
      "text/plain": [
       "'GeoServer Web Map Service'"
      ]
     },
     "execution_count": 200,
     "metadata": {},
     "output_type": "execute_result"
    }
   ],
   "source": [
    "wms.identification.title"
   ]
  },
  {
   "cell_type": "code",
   "execution_count": 201,
   "metadata": {},
   "outputs": [
    {
     "data": {
      "text/plain": [
       "['NFRIP-WOfS:ClearObservations',\n",
       " 'NFRIP-WOfS:ClearObservations_previous',\n",
       " 'NFRIP-WOfS:Confidence',\n",
       " 'NFRIP-WOfS:Confidence_previous',\n",
       " 'ITEM:ITEM_CL_mosaic_1987_2015',\n",
       " 'ITEM:ITEM_CoastalCells',\n",
       " 'ITEM:ITEM_REL_mosaic_1987_2015',\n",
       " 'NFRIP-WOfS:WaterObservations',\n",
       " 'NFRIP-WOfS:WaterObservations_previous',\n",
       " 'NFRIP-WOfS:WaterSummary',\n",
       " 'NFRIP-WOfS:WaterSummaryFiltered',\n",
       " 'NFRIP-WOfS:WaterSummaryFiltered_previous',\n",
       " 'NFRIP-WOfS:WaterSummary_previous']"
      ]
     },
     "execution_count": 201,
     "metadata": {},
     "output_type": "execute_result"
    }
   ],
   "source": [
    "list(wms.contents)"
   ]
  },
  {
   "cell_type": "code",
   "execution_count": 202,
   "metadata": {},
   "outputs": [
    {
     "data": {
      "text/plain": [
       "'ClearObservations'"
      ]
     },
     "execution_count": 202,
     "metadata": {},
     "output_type": "execute_result"
    }
   ],
   "source": [
    "wms['NFRIP-WOfS:ClearObservations'].title"
   ]
  },
  {
   "cell_type": "code",
   "execution_count": 203,
   "metadata": {},
   "outputs": [
    {
     "data": {
      "text/plain": [
       "(111.58, -48.92, 154.42, -6.08, 'EPSG:4326')"
      ]
     },
     "execution_count": 203,
     "metadata": {},
     "output_type": "execute_result"
    }
   ],
   "source": [
    "wms['NFRIP-WOfS:ClearObservations'].boundingBox"
   ]
  },
  {
   "cell_type": "code",
   "execution_count": 204,
   "metadata": {},
   "outputs": [
    {
     "data": {
      "text/plain": [
       "['EPSG:6892',\n",
       " 'EPSG:5107',\n",
       " 'EPSG:21414',\n",
       " 'EPSG:6813',\n",
       " 'EPSG:2164',\n",
       " 'EPSG:3277',\n",
       " 'EPSG:4945',\n",
       " 'EPSG:32436',\n",
       " 'EPSG:5214',\n",
       " 'EPSG:4568',\n",
       " 'EPSG:7403',\n",
       " 'EPSG:6432',\n",
       " 'EPSG:5872',\n",
       " 'EPSG:4931',\n",
       " 'EPSG:54004',\n",
       " 'EPSG:5948',\n",
       " 'EPSG:32067',\n",
       " 'EPSG:2524',\n",
       " 'EPSG:3360',\n",
       " 'EPSG:2355',\n",
       " 'EPSG:3022',\n",
       " 'EPSG:5124',\n",
       " 'EPSG:2112',\n",
       " 'EPSG:5927',\n",
       " 'EPSG:32460',\n",
       " 'EPSG:32041',\n",
       " 'EPSG:3377',\n",
       " 'EPSG:4300',\n",
       " 'EPSG:4990',\n",
       " 'EPSG:2835',\n",
       " 'EPSG:6508',\n",
       " 'EPSG:3946',\n",
       " 'EPSG:5815',\n",
       " 'EPSG:5762',\n",
       " 'EPSG:23948',\n",
       " 'EPSG:2269',\n",
       " 'EPSG:20934',\n",
       " 'EPSG:31287',\n",
       " 'EPSG:3729',\n",
       " 'EPSG:5930',\n",
       " 'EPSG:28192',\n",
       " 'EPSG:3455',\n",
       " 'EPSG:2005',\n",
       " 'EPSG:3018',\n",
       " 'EPSG:21149',\n",
       " 'EPSG:32232',\n",
       " 'EPSG:6086',\n",
       " 'EPSG:32556',\n",
       " 'EPSG:61406413',\n",
       " 'EPSG:2220',\n",
       " 'EPSG:2498',\n",
       " 'EPSG:4896',\n",
       " 'EPSG:6482',\n",
       " 'EPSG:26721',\n",
       " 'EPSG:6868',\n",
       " 'EPSG:3331',\n",
       " 'EPSG:32446',\n",
       " 'EPSG:2911',\n",
       " 'EPSG:32749',\n",
       " 'EPSG:2381',\n",
       " 'EPSG:3153',\n",
       " 'EPSG:6709',\n",
       " 'EPSG:4910',\n",
       " 'EPSG:4241',\n",
       " 'EPSG:23849',\n",
       " 'EPSG:26930',\n",
       " 'EPSG:2096',\n",
       " 'EPSG:4434',\n",
       " 'EPSG:2223',\n",
       " 'EPSG:32348',\n",
       " 'EPSG:2451',\n",
       " 'EPSG:5725',\n",
       " 'EPSG:5365',\n",
       " 'EPSG:26773',\n",
       " 'EPSG:32336',\n",
       " 'EPSG:2375',\n",
       " 'EPSG:4983',\n",
       " 'EPSG:6414',\n",
       " 'EPSG:2400',\n",
       " 'EPSG:4382',\n",
       " 'EPSG:32062',\n",
       " 'EPSG:2681',\n",
       " 'EPSG:31121',\n",
       " 'EPSG:5972',\n",
       " 'EPSG:6587',\n",
       " 'EPSG:6132',\n",
       " 'EPSG:6511',\n",
       " 'EPSG:6932',\n",
       " 'EPSG:2146',\n",
       " 'EPSG:4583',\n",
       " 'EPSG:32347',\n",
       " 'EPSG:2557',\n",
       " 'EPSG:4610',\n",
       " 'EPSG:30163',\n",
       " 'EPSG:3024',\n",
       " 'EPSG:5929',\n",
       " 'EPSG:5954',\n",
       " 'EPSG:2311',\n",
       " 'EPSG:4950',\n",
       " 'EPSG:32056',\n",
       " 'EPSG:2884',\n",
       " 'EPSG:24380',\n",
       " 'EPSG:3846',\n",
       " 'EPSG:27222',\n",
       " 'EPSG:4194',\n",
       " 'EPSG:2410',\n",
       " 'EPSG:5668',\n",
       " 'EPSG:6434',\n",
       " 'EPSG:3834',\n",
       " 'EPSG:3737',\n",
       " 'EPSG:5186',\n",
       " 'EPSG:62586413',\n",
       " 'EPSG:2619',\n",
       " 'EPSG:5172',\n",
       " 'EPSG:2739',\n",
       " 'EPSG:3610',\n",
       " 'EPSG:3911',\n",
       " 'EPSG:22293',\n",
       " 'EPSG:28432',\n",
       " 'EPSG:4763',\n",
       " 'EPSG:4581',\n",
       " 'EPSG:31969',\n",
       " 'EPSG:22235',\n",
       " 'EPSG:2584',\n",
       " 'EPSG:3829',\n",
       " 'EPSG:3788',\n",
       " 'EPSG:4471',\n",
       " 'EPSG:26393',\n",
       " 'EPSG:32727',\n",
       " 'EPSG:4408',\n",
       " 'EPSG:32116',\n",
       " 'EPSG:6244',\n",
       " 'EPSG:5552',\n",
       " 'EPSG:2867',\n",
       " 'EPSG:5589',\n",
       " 'EPSG:6340',\n",
       " 'EPSG:3070',\n",
       " 'EPSG:2836',\n",
       " 'EPSG:3704',\n",
       " 'EPSG:4433',\n",
       " 'EPSG:20031',\n",
       " 'EPSG:2266',\n",
       " 'EPSG:32433',\n",
       " 'EPSG:6275',\n",
       " 'EPSG:27225',\n",
       " 'EPSG:32016',\n",
       " 'EPSG:2624',\n",
       " 'EPSG:2274',\n",
       " 'EPSG:31300',\n",
       " 'EPSG:4527',\n",
       " 'EPSG:4602',\n",
       " 'EPSG:27492',\n",
       " 'EPSG:20356',\n",
       " 'EPSG:5940',\n",
       " 'EPSG:29182',\n",
       " 'EPSG:32229',\n",
       " 'EPSG:3433',\n",
       " 'EPSG:3601',\n",
       " 'EPSG:5631',\n",
       " 'EPSG:61526405',\n",
       " 'EPSG:6436',\n",
       " 'EPSG:22196',\n",
       " 'EPSG:3684',\n",
       " 'EPSG:5345',\n",
       " 'EPSG:27395',\n",
       " 'EPSG:23844',\n",
       " 'EPSG:63266405',\n",
       " 'EPSG:2154',\n",
       " 'EPSG:2721',\n",
       " 'EPSG:3356',\n",
       " 'EPSG:2604',\n",
       " 'EPSG:62686405',\n",
       " 'EPSG:3883',\n",
       " 'EPSG:31292',\n",
       " 'EPSG:62736405',\n",
       " 'EPSG:4865',\n",
       " 'EPSG:20070',\n",
       " 'EPSG:2627',\n",
       " 'EPSG:5498',\n",
       " 'EPSG:32110',\n",
       " 'EPSG:26933',\n",
       " 'EPSG:20353',\n",
       " 'EPSG:6486',\n",
       " 'EPSG:3333',\n",
       " 'EPSG:5627',\n",
       " 'EPSG:26772',\n",
       " 'EPSG:5048',\n",
       " 'EPSG:3879',\n",
       " 'EPSG:3206',\n",
       " 'EPSG:5609',\n",
       " 'EPSG:2282',\n",
       " 'EPSG:5130',\n",
       " 'EPSG:3651',\n",
       " 'EPSG:24100',\n",
       " 'EPSG:5591',\n",
       " 'EPSG:62086405',\n",
       " 'EPSG:6915',\n",
       " 'EPSG:3616',\n",
       " 'EPSG:3236',\n",
       " 'EPSG:3900',\n",
       " 'EPSG:31976',\n",
       " 'EPSG:6107',\n",
       " 'EPSG:6371',\n",
       " 'EPSG:23845',\n",
       " 'EPSG:3175',\n",
       " 'EPSG:6357',\n",
       " 'EPSG:6688',\n",
       " 'EPSG:23878',\n",
       " 'EPSG:61706405',\n",
       " 'EPSG:6642',\n",
       " 'EPSG:6623',\n",
       " 'EPSG:28423',\n",
       " 'EPSG:6364',\n",
       " 'EPSG:2789',\n",
       " 'EPSG:6521',\n",
       " 'EPSG:2704',\n",
       " 'EPSG:2153',\n",
       " 'EPSG:2817',\n",
       " 'EPSG:20092',\n",
       " 'EPSG:26746',\n",
       " 'EPSG:6795',\n",
       " 'EPSG:2068',\n",
       " 'EPSG:6084',\n",
       " 'EPSG:4737',\n",
       " 'EPSG:23866',\n",
       " 'EPSG:4213',\n",
       " 'EPSG:5369',\n",
       " 'EPSG:3728',\n",
       " 'EPSG:3448',\n",
       " 'EPSG:28489',\n",
       " 'EPSG:2788',\n",
       " 'EPSG:3513',\n",
       " 'EPSG:5593',\n",
       " 'EPSG:3562',\n",
       " 'EPSG:5253',\n",
       " 'EPSG:4736',\n",
       " 'EPSG:2319',\n",
       " 'EPSG:63146405',\n",
       " 'EPSG:2599',\n",
       " 'EPSG:4512',\n",
       " 'EPSG:2887',\n",
       " 'EPSG:68026405',\n",
       " 'EPSG:2540',\n",
       " 'EPSG:6185',\n",
       " 'EPSG:6094',\n",
       " 'EPSG:4398',\n",
       " 'EPSG:2028',\n",
       " 'EPSG:62816405',\n",
       " 'EPSG:27120',\n",
       " 'EPSG:5347',\n",
       " 'EPSG:20349',\n",
       " 'EPSG:4956',\n",
       " 'EPSG:3416',\n",
       " 'EPSG:2761',\n",
       " 'EPSG:5653',\n",
       " 'EPSG:25834',\n",
       " 'EPSG:4180',\n",
       " 'EPSG:2796',\n",
       " 'EPSG:23031',\n",
       " 'EPSG:23870',\n",
       " 'EPSG:20014',\n",
       " 'EPSG:6625',\n",
       " 'EPSG:61366405',\n",
       " 'EPSG:31991',\n",
       " 'EPSG:2527',\n",
       " 'EPSG:2231',\n",
       " 'EPSG:3734',\n",
       " 'EPSG:3592',\n",
       " 'EPSG:6825',\n",
       " 'EPSG:2136',\n",
       " 'EPSG:3418',\n",
       " 'EPSG:3563',\n",
       " 'EPSG:4528',\n",
       " 'EPSG:32522',\n",
       " 'EPSG:5711',\n",
       " 'EPSG:7409',\n",
       " 'EPSG:3978',\n",
       " 'EPSG:32260',\n",
       " 'EPSG:5731',\n",
       " 'EPSG:3692',\n",
       " 'EPSG:2810',\n",
       " 'EPSG:6202',\n",
       " 'EPSG:5380',\n",
       " 'EPSG:6066',\n",
       " 'EPSG:32236',\n",
       " 'EPSG:32246',\n",
       " 'EPSG:2179',\n",
       " 'EPSG:3090',\n",
       " 'EPSG:4222',\n",
       " 'EPSG:3496',\n",
       " 'EPSG:5259',\n",
       " 'EPSG:32657',\n",
       " 'EPSG:4286',\n",
       " 'EPSG:6562',\n",
       " 'EPSG:32231',\n",
       " 'EPSG:4571',\n",
       " 'EPSG:32731',\n",
       " 'EPSG:3876',\n",
       " 'EPSG:26934',\n",
       " 'EPSG:4797',\n",
       " 'EPSG:32077',\n",
       " 'EPSG:6794',\n",
       " 'EPSG:27228',\n",
       " 'EPSG:2623',\n",
       " 'EPSG:6183',\n",
       " 'EPSG:2248',\n",
       " 'EPSG:5015',\n",
       " 'EPSG:5786',\n",
       " 'EPSG:4641',\n",
       " 'EPSG:3387',\n",
       " 'EPSG:4974',\n",
       " 'EPSG:2391',\n",
       " 'EPSG:6335',\n",
       " 'EPSG:6461',\n",
       " 'EPSG:2022',\n",
       " 'EPSG:2862',\n",
       " 'EPSG:6061',\n",
       " 'EPSG:20135',\n",
       " 'EPSG:5758',\n",
       " 'EPSG:6821',\n",
       " 'EPSG:3335',\n",
       " 'EPSG:3474',\n",
       " 'EPSG:2693',\n",
       " 'EPSG:2362',\n",
       " 'EPSG:4158',\n",
       " 'EPSG:4218',\n",
       " 'EPSG:3180',\n",
       " 'EPSG:3698',\n",
       " 'EPSG:26751',\n",
       " 'EPSG:3571',\n",
       " 'EPSG:66416405',\n",
       " 'EPSG:2191',\n",
       " 'EPSG:20090',\n",
       " 'EPSG:6578',\n",
       " 'EPSG:2701',\n",
       " 'EPSG:4732',\n",
       " 'EPSG:6477',\n",
       " 'EPSG:26796',\n",
       " 'EPSG:5870',\n",
       " 'EPSG:22521',\n",
       " 'EPSG:32045',\n",
       " 'EPSG:4614',\n",
       " 'EPSG:2236',\n",
       " 'EPSG:2582',\n",
       " 'EPSG:4351',\n",
       " 'EPSG:3653',\n",
       " 'EPSG:26859',\n",
       " 'EPSG:3945',\n",
       " 'EPSG:3400',\n",
       " 'EPSG:4484',\n",
       " 'EPSG:23868',\n",
       " 'EPSG:4955',\n",
       " 'EPSG:63126405',\n",
       " 'EPSG:4354',\n",
       " 'EPSG:4080',\n",
       " 'EPSG:6148',\n",
       " 'EPSG:26734',\n",
       " 'EPSG:32416',\n",
       " 'EPSG:2364',\n",
       " 'EPSG:4663',\n",
       " 'EPSG:3351',\n",
       " 'EPSG:3217',\n",
       " 'EPSG:5256',\n",
       " 'EPSG:2034',\n",
       " 'EPSG:3235',\n",
       " 'EPSG:26591',\n",
       " 'EPSG:3696',\n",
       " 'EPSG:4094',\n",
       " 'EPSG:66456413',\n",
       " 'EPSG:6862',\n",
       " 'EPSG:31284',\n",
       " 'EPSG:5617',\n",
       " 'EPSG:45556',\n",
       " 'EPSG:3600',\n",
       " 'EPSG:4504',\n",
       " 'EPSG:3430',\n",
       " 'EPSG:5858',\n",
       " 'EPSG:6426',\n",
       " 'EPSG:29169',\n",
       " 'EPSG:26988',\n",
       " 'EPSG:30178',\n",
       " 'EPSG:3135',\n",
       " 'EPSG:2531',\n",
       " 'EPSG:29849',\n",
       " 'EPSG:68186405',\n",
       " 'EPSG:3032',\n",
       " 'EPSG:6502',\n",
       " 'EPSG:3219',\n",
       " 'EPSG:3764',\n",
       " 'EPSG:6418',\n",
       " 'EPSG:4259',\n",
       " 'EPSG:3100',\n",
       " 'EPSG:2848',\n",
       " 'EPSG:6146',\n",
       " 'EPSG:2754',\n",
       " 'EPSG:3061',\n",
       " 'EPSG:2981',\n",
       " 'EPSG:6657',\n",
       " 'EPSG:22522',\n",
       " 'EPSG:4659',\n",
       " 'EPSG:4749',\n",
       " 'EPSG:5331',\n",
       " 'EPSG:4411',\n",
       " 'EPSG:26862',\n",
       " 'EPSG:6652',\n",
       " 'EPSG:3466',\n",
       " 'EPSG:3559',\n",
       " 'EPSG:4879',\n",
       " 'EPSG:26781',\n",
       " 'EPSG:3702',\n",
       " 'EPSG:3083',\n",
       " 'EPSG:5712',\n",
       " 'EPSG:4734',\n",
       " 'EPSG:26992',\n",
       " 'EPSG:21780',\n",
       " 'EPSG:3500',\n",
       " 'EPSG:6734',\n",
       " 'EPSG:2287',\n",
       " 'EPSG:2057',\n",
       " 'EPSG:5821',\n",
       " 'EPSG:27208',\n",
       " 'EPSG:4200',\n",
       " 'EPSG:2874',\n",
       " 'EPSG:32188',\n",
       " 'EPSG:2294',\n",
       " 'EPSG:32194',\n",
       " 'EPSG:4133',\n",
       " 'EPSG:5772',\n",
       " 'EPSG:42306',\n",
       " 'EPSG:4396',\n",
       " 'EPSG:4904',\n",
       " 'EPSG:32144',\n",
       " 'EPSG:32255',\n",
       " 'EPSG:26753',\n",
       " 'EPSG:3311',\n",
       " 'EPSG:2625',\n",
       " 'EPSG:26949',\n",
       " 'EPSG:31251',\n",
       " 'EPSG:5634',\n",
       " 'EPSG:3373',\n",
       " 'EPSG:6345',\n",
       " 'EPSG:5837',\n",
       " 'EPSG:32622',\n",
       " 'EPSG:6708',\n",
       " 'EPSG:5257',\n",
       " 'EPSG:3593',\n",
       " 'EPSG:6265',\n",
       " 'EPSG:3275',\n",
       " 'EPSG:5673',\n",
       " 'EPSG:6594',\n",
       " 'EPSG:32328',\n",
       " 'EPSG:28428',\n",
       " 'EPSG:6681',\n",
       " 'EPSG:32344',\n",
       " 'EPSG:6445',\n",
       " 'EPSG:22770',\n",
       " 'EPSG:4821',\n",
       " 'EPSG:4062',\n",
       " 'EPSG:2655',\n",
       " 'EPSG:3638',\n",
       " 'EPSG:4095',\n",
       " 'EPSG:3209',\n",
       " 'EPSG:3128',\n",
       " 'EPSG:4233',\n",
       " 'EPSG:4716',\n",
       " 'EPSG:66356405',\n",
       " 'EPSG:62676405',\n",
       " 'EPSG:2490',\n",
       " 'EPSG:28485',\n",
       " 'EPSG:2272',\n",
       " 'EPSG:6179',\n",
       " 'EPSG:61206405',\n",
       " 'EPSG:4401',\n",
       " 'EPSG:6787',\n",
       " 'EPSG:3249',\n",
       " 'EPSG:32650',\n",
       " 'EPSG:20079',\n",
       " 'EPSG:4785',\n",
       " 'EPSG:3368',\n",
       " 'EPSG:4809',\n",
       " 'EPSG:6988',\n",
       " 'EPSG:32192',\n",
       " 'EPSG:26711',\n",
       " 'EPSG:6991',\n",
       " 'EPSG:2607',\n",
       " 'EPSG:5680',\n",
       " 'EPSG:26812',\n",
       " 'EPSG:2547',\n",
       " 'EPSG:29850',\n",
       " 'EPSG:20253',\n",
       " 'EPSG:5677',\n",
       " 'EPSG:2289',\n",
       " 'EPSG:2843',\n",
       " 'EPSG:4765',\n",
       " 'EPSG:26755',\n",
       " 'EPSG:3205',\n",
       " 'EPSG:32166',\n",
       " 'EPSG:2967',\n",
       " 'EPSG:31469',\n",
       " 'EPSG:4909',\n",
       " 'EPSG:3851',\n",
       " 'EPSG:2209',\n",
       " 'EPSG:4751',\n",
       " 'EPSG:2986',\n",
       " 'EPSG:23879',\n",
       " 'EPSG:3512',\n",
       " 'EPSG:2292',\n",
       " 'EPSG:21476',\n",
       " 'EPSG:5773',\n",
       " 'EPSG:3161',\n",
       " 'EPSG:6962',\n",
       " 'EPSG:6161',\n",
       " 'EPSG:3126',\n",
       " 'EPSG:5072',\n",
       " 'EPSG:32458',\n",
       " 'EPSG:29172',\n",
       " 'EPSG:6343',\n",
       " 'EPSG:2016',\n",
       " 'EPSG:5546',\n",
       " 'EPSG:28403',\n",
       " 'EPSG:32155',\n",
       " 'EPSG:5820',\n",
       " 'EPSG:5659',\n",
       " 'EPSG:32333',\n",
       " 'EPSG:26331',\n",
       " 'EPSG:23893',\n",
       " 'EPSG:6184',\n",
       " 'EPSG:6439',\n",
       " 'EPSG:24343',\n",
       " 'EPSG:20254',\n",
       " 'EPSG:4794',\n",
       " 'EPSG:32136',\n",
       " 'EPSG:2919',\n",
       " 'EPSG:6472',\n",
       " 'EPSG:61636405',\n",
       " 'EPSG:6489',\n",
       " 'EPSG:3713',\n",
       " 'EPSG:2673',\n",
       " 'EPSG:4219',\n",
       " 'EPSG:6624',\n",
       " 'EPSG:26895',\n",
       " 'EPSG:32126',\n",
       " 'EPSG:2904',\n",
       " 'EPSG:28473',\n",
       " 'EPSG:3710',\n",
       " 'EPSG:61326405',\n",
       " 'EPSG:26795',\n",
       " 'EPSG:6110',\n",
       " 'EPSG:6676',\n",
       " 'EPSG:2763',\n",
       " 'EPSG:2247',\n",
       " 'EPSG:32023',\n",
       " 'EPSG:2713',\n",
       " 'EPSG:6383',\n",
       " 'EPSG:26718',\n",
       " 'EPSG:3520',\n",
       " 'EPSG:3270',\n",
       " 'EPSG:4417',\n",
       " 'EPSG:6633',\n",
       " 'EPSG:27209',\n",
       " 'EPSG:2344',\n",
       " 'EPSG:4260',\n",
       " 'EPSG:28402',\n",
       " 'EPSG:2641',\n",
       " 'EPSG:5742',\n",
       " 'EPSG:27582',\n",
       " 'EPSG:3778',\n",
       " 'EPSG:25394',\n",
       " 'EPSG:2613',\n",
       " 'EPSG:2088',\n",
       " 'EPSG:2441',\n",
       " 'EPSG:2014',\n",
       " 'EPSG:31282',\n",
       " 'EPSG:3225',\n",
       " 'EPSG:5245',\n",
       " 'EPSG:22994',\n",
       " 'EPSG:6841',\n",
       " 'EPSG:32057',\n",
       " 'EPSG:4126',\n",
       " 'EPSG:2301',\n",
       " 'EPSG:3064',\n",
       " 'EPSG:2418',\n",
       " 'EPSG:3176',\n",
       " 'EPSG:32414',\n",
       " 'EPSG:3441',\n",
       " 'EPSG:62376405',\n",
       " 'EPSG:32505',\n",
       " 'EPSG:4587',\n",
       " 'EPSG:3183',\n",
       " 'EPSG:26959',\n",
       " 'EPSG:3062',\n",
       " 'EPSG:4134',\n",
       " 'EPSG:2595',\n",
       " 'EPSG:32553',\n",
       " 'EPSG:5316',\n",
       " 'EPSG:32158',\n",
       " 'EPSG:3170',\n",
       " 'EPSG:2399',\n",
       " 'EPSG:4954',\n",
       " 'EPSG:3637',\n",
       " 'EPSG:2338',\n",
       " 'EPSG:5175',\n",
       " 'EPSG:4204',\n",
       " 'EPSG:27700',\n",
       " 'EPSG:2925',\n",
       " 'EPSG:4135',\n",
       " 'EPSG:5235',\n",
       " 'EPSG:2818',\n",
       " 'EPSG:3255',\n",
       " 'EPSG:32442',\n",
       " 'EPSG:32125',\n",
       " 'EPSG:4099',\n",
       " 'EPSG:6875',\n",
       " 'EPSG:27393',\n",
       " 'EPSG:4532',\n",
       " 'EPSG:3790',\n",
       " 'EPSG:31987',\n",
       " 'EPSG:32603',\n",
       " 'EPSG:4739',\n",
       " 'EPSG:4234',\n",
       " 'EPSG:2334',\n",
       " 'EPSG:3693',\n",
       " 'EPSG:3263',\n",
       " 'EPSG:2659',\n",
       " 'EPSG:5582',\n",
       " 'EPSG:3358',\n",
       " 'EPSG:26835',\n",
       " 'EPSG:5966',\n",
       " 'EPSG:24305',\n",
       " 'EPSG:900913',\n",
       " 'EPSG:20012',\n",
       " 'EPSG:6267',\n",
       " 'EPSG:3386',\n",
       " 'EPSG:6738',\n",
       " 'EPSG:6400',\n",
       " 'EPSG:4654',\n",
       " 'EPSG:3012',\n",
       " 'EPSG:32083',\n",
       " 'EPSG:28411',\n",
       " 'EPSG:5866',\n",
       " 'EPSG:2667',\n",
       " 'EPSG:2010',\n",
       " 'EPSG:20539',\n",
       " 'EPSG:62046405',\n",
       " 'EPSG:6178',\n",
       " 'EPSG:20018',\n",
       " 'EPSG:6592',\n",
       " 'EPSG:26897',\n",
       " 'EPSG:61926405',\n",
       " 'EPSG:26702',\n",
       " 'EPSG:2603',\n",
       " 'EPSG:4558',\n",
       " 'EPSG:2650',\n",
       " 'EPSG:28426',\n",
       " 'EPSG:5356',\n",
       " 'EPSG:4370',\n",
       " 'EPSG:3508',\n",
       " 'EPSG:25231',\n",
       " 'EPSG:23872',\n",
       " 'EPSG:26914',\n",
       " 'EPSG:61626405',\n",
       " 'EPSG:2738',\n",
       " 'EPSG:2944',\n",
       " 'EPSG:66596413',\n",
       " 'EPSG:6922',\n",
       " 'EPSG:62996405',\n",
       " 'EPSG:3660',\n",
       " 'EPSG:4348',\n",
       " 'EPSG:26780',\n",
       " 'EPSG:27396',\n",
       " 'EPSG:21415',\n",
       " 'EPSG:2297',\n",
       " 'EPSG:6093',\n",
       " 'EPSG:24372',\n",
       " 'EPSG:2402',\n",
       " 'EPSG:2232',\n",
       " 'EPSG:6607',\n",
       " 'EPSG:6131',\n",
       " 'EPSG:2760',\n",
       " 'EPSG:5624',\n",
       " 'EPSG:2382',\n",
       " 'EPSG:6796',\n",
       " 'EPSG:32756',\n",
       " 'EPSG:6129',\n",
       " 'EPSG:2493',\n",
       " 'EPSG:32633',\n",
       " 'EPSG:4277',\n",
       " 'EPSG:5664',\n",
       " 'EPSG:2189',\n",
       " 'EPSG:26722',\n",
       " 'EPSG:4680',\n",
       " 'EPSG:2409',\n",
       " 'EPSG:68136405',\n",
       " 'EPSG:6329',\n",
       " 'EPSG:6591',\n",
       " 'EPSG:3688',\n",
       " 'EPSG:4422',\n",
       " 'EPSG:2118',\n",
       " 'EPSG:5344',\n",
       " 'EPSG:32408',\n",
       " 'EPSG:5251',\n",
       " 'EPSG:6113',\n",
       " 'EPSG:26977',\n",
       " 'EPSG:27584',\n",
       " 'EPSG:5633',\n",
       " 'EPSG:28408',\n",
       " 'EPSG:32502',\n",
       " 'EPSG:3372',\n",
       " 'EPSG:5600',\n",
       " 'EPSG:4706',\n",
       " 'EPSG:6586',\n",
       " 'EPSG:28404',\n",
       " 'EPSG:6636',\n",
       " 'EPSG:4604',\n",
       " 'EPSG:42304',\n",
       " 'EPSG:6262',\n",
       " 'EPSG:26786',\n",
       " 'EPSG:32244',\n",
       " 'EPSG:30161',\n",
       " 'EPSG:3068',\n",
       " 'EPSG:4262',\n",
       " 'EPSG:3658',\n",
       " 'EPSG:5016',\n",
       " 'EPSG:4075',\n",
       " 'EPSG:4695',\n",
       " 'EPSG:6157',\n",
       " 'EPSG:3589',\n",
       " 'EPSG:5704',\n",
       " 'EPSG:5922',\n",
       " 'EPSG:3661',\n",
       " 'EPSG:4638',\n",
       " 'EPSG:4772',\n",
       " 'EPSG:32357',\n",
       " 'EPSG:26757',\n",
       " 'EPSG:32027',\n",
       " 'EPSG:6679',\n",
       " 'EPSG:26909',\n",
       " 'EPSG:26960',\n",
       " 'EPSG:4753',\n",
       " 'EPSG:32133',\n",
       " 'EPSG:5565',\n",
       " 'EPSG:5876',\n",
       " 'EPSG:3019',\n",
       " 'EPSG:3576',\n",
       " 'EPSG:2556',\n",
       " 'EPSG:4060',\n",
       " 'EPSG:3038',\n",
       " 'EPSG:32431',\n",
       " 'EPSG:6979',\n",
       " 'EPSG:3013',\n",
       " 'EPSG:31967',\n",
       " 'EPSG:66256405',\n",
       " 'EPSG:3791',\n",
       " 'EPSG:26851',\n",
       " 'EPSG:3052',\n",
       " 'EPSG:2440',\n",
       " 'EPSG:6440',\n",
       " 'EPSG:3379',\n",
       " 'EPSG:21893',\n",
       " 'EPSG:6649',\n",
       " 'EPSG:3169',\n",
       " 'EPSG:4183',\n",
       " 'EPSG:6803',\n",
       " 'EPSG:26958',\n",
       " 'EPSG:32013',\n",
       " 'EPSG:4045',\n",
       " 'EPSG:6471',\n",
       " 'EPSG:62826405',\n",
       " 'EPSG:62866405',\n",
       " 'EPSG:4010',\n",
       " 'EPSG:2048',\n",
       " 'EPSG:32403',\n",
       " 'EPSG:32732',\n",
       " 'EPSG:3775',\n",
       " 'EPSG:5974',\n",
       " 'EPSG:26985',\n",
       " 'EPSG:5968',\n",
       " 'EPSG:4209',\n",
       " 'EPSG:32025',\n",
       " 'EPSG:2883',\n",
       " 'EPSG:6456',\n",
       " 'EPSG:32205',\n",
       " 'EPSG:66306405',\n",
       " 'EPSG:2709',\n",
       " 'EPSG:32242',\n",
       " 'EPSG:22234',\n",
       " 'EPSG:26852',\n",
       " 'EPSG:4609',\n",
       " 'EPSG:3665',\n",
       " 'EPSG:61916405',\n",
       " 'EPSG:68016405',\n",
       " 'EPSG:2357',\n",
       " 'EPSG:61786405',\n",
       " 'EPSG:6733',\n",
       " 'EPSG:4745',\n",
       " 'EPSG:29873',\n",
       " 'EPSG:3558',\n",
       " 'EPSG:2597',\n",
       " 'EPSG:2708',\n",
       " 'EPSG:63266419',\n",
       " 'EPSG:2176',\n",
       " 'EPSG:5849',\n",
       " 'EPSG:32180',\n",
       " 'EPSG:32552',\n",
       " 'EPSG:32526',\n",
       " 'EPSG:32513',\n",
       " 'EPSG:3703',\n",
       " 'EPSG:5877',\n",
       " 'EPSG:31266',\n",
       " 'EPSG:26964',\n",
       " 'EPSG:23853',\n",
       " 'EPSG:32753',\n",
       " 'EPSG:6685',\n",
       " 'EPSG:6789',\n",
       " 'EPSG:6605',\n",
       " 'EPSG:4570',\n",
       " 'EPSG:4603',\n",
       " 'EPSG:6959',\n",
       " 'EPSG:3825',\n",
       " 'EPSG:4514',\n",
       " 'EPSG:6324',\n",
       " 'EPSG:3336',\n",
       " 'EPSG:4789',\n",
       " 'EPSG:4141',\n",
       " 'EPSG:4971',\n",
       " 'EPSG:5802',\n",
       " 'EPSG:31171',\n",
       " 'EPSG:5960',\n",
       " 'EPSG:32191',\n",
       " 'EPSG:5851',\n",
       " 'EPSG:2061',\n",
       " 'EPSG:5928',\n",
       " 'EPSG:26980',\n",
       " 'EPSG:5472',\n",
       " 'EPSG:3608',\n",
       " 'EPSG:5307',\n",
       " 'EPSG:32127',\n",
       " 'EPSG:2663',\n",
       " 'EPSG:3287',\n",
       " 'EPSG:5336',\n",
       " 'EPSG:31257',\n",
       " 'EPSG:32448',\n",
       " 'EPSG:6655',\n",
       " 'EPSG:5644',\n",
       " 'EPSG:3605',\n",
       " 'EPSG:66286405',\n",
       " 'EPSG:3405',\n",
       " 'EPSG:4643',\n",
       " 'EPSG:32617',\n",
       " 'EPSG:6050',\n",
       " 'EPSG:2180',\n",
       " 'EPSG:32432',\n",
       " 'EPSG:3231',\n",
       " 'EPSG:5608',\n",
       " 'EPSG:3969',\n",
       " 'EPSG:5755',\n",
       " 'EPSG:4944',\n",
       " 'EPSG:66196413',\n",
       " 'EPSG:4940',\n",
       " 'EPSG:2987',\n",
       " 'EPSG:3689',\n",
       " 'EPSG:5813',\n",
       " 'EPSG:2099',\n",
       " 'EPSG:3136',\n",
       " 'EPSG:31267',\n",
       " 'EPSG:3016',\n",
       " 'EPSG:6858',\n",
       " 'EPSG:26941',\n",
       " 'EPSG:2075',\n",
       " 'EPSG:3154',\n",
       " 'EPSG:4412',\n",
       " 'EPSG:32613',\n",
       " 'EPSG:6509',\n",
       " 'EPSG:68156405',\n",
       " 'EPSG:3355',\n",
       " 'EPSG:32100',\n",
       " 'EPSG:32422',\n",
       " 'EPSG:4361',\n",
       " 'EPSG:4961',\n",
       " 'EPSG:2422',\n",
       " 'EPSG:5516',\n",
       " 'EPSG:32761',\n",
       " 'EPSG:32325',\n",
       " 'EPSG:32609',\n",
       " 'EPSG:6615',\n",
       " 'EPSG:7400',\n",
       " 'EPSG:6737',\n",
       " 'EPSG:21477',\n",
       " 'EPSG:21473',\n",
       " 'EPSG:30340',\n",
       " 'EPSG:3542',\n",
       " 'EPSG:4924',\n",
       " 'EPSG:31529',\n",
       " 'EPSG:20437',\n",
       " 'EPSG:2259',\n",
       " 'EPSG:5127',\n",
       " 'EPSG:4947',\n",
       " 'EPSG:26830',\n",
       " 'EPSG:3122',\n",
       " 'EPSG:3777',\n",
       " 'EPSG:5854',\n",
       " 'EPSG:2532',\n",
       " 'EPSG:26848',\n",
       " 'EPSG:3354',\n",
       " 'EPSG:23835',\n",
       " 'EPSG:62236405',\n",
       " 'EPSG:5588',\n",
       " 'EPSG:32452',\n",
       " 'EPSG:6135',\n",
       " 'EPSG:4215',\n",
       " 'EPSG:5364',\n",
       " 'EPSG:2122',\n",
       " 'EPSG:6838',\n",
       " 'EPSG:2328',\n",
       " 'EPSG:6464',\n",
       " 'EPSG:5530',\n",
       " 'EPSG:3004',\n",
       " 'EPSG:21292',\n",
       " 'EPSG:32411',\n",
       " 'EPSG:4782',\n",
       " 'EPSG:22182',\n",
       " 'EPSG:4225',\n",
       " 'EPSG:4907',\n",
       " 'EPSG:31256',\n",
       " 'EPSG:3646',\n",
       " 'EPSG:4935',\n",
       " 'EPSG:32082',\n",
       " 'EPSG:32047',\n",
       " 'EPSG:2071',\n",
       " 'EPSG:4707',\n",
       " 'EPSG:3622',\n",
       " 'EPSG:63176405',\n",
       " 'EPSG:2958',\n",
       " 'EPSG:3595',\n",
       " 'EPSG:7420',\n",
       " 'EPSG:20088',\n",
       " 'EPSG:6791',\n",
       " 'EPSG:63106405',\n",
       " 'EPSG:4619',\n",
       " 'EPSG:2861',\n",
       " 'EPSG:61486413',\n",
       " 'EPSG:31285',\n",
       " 'EPSG:4740',\n",
       " 'EPSG:3370',\n",
       " 'EPSG:3749',\n",
       " 'EPSG:32755',\n",
       " 'EPSG:2095',\n",
       " 'EPSG:4424',\n",
       " 'EPSG:3695',\n",
       " 'EPSG:4926',\n",
       " 'EPSG:5342',\n",
       " 'EPSG:5193',\n",
       " 'EPSG:6881',\n",
       " 'EPSG:4292',\n",
       " 'EPSG:4462',\n",
       " 'EPSG:6103',\n",
       " 'EPSG:4760',\n",
       " 'EPSG:3264',\n",
       " 'EPSG:6689',\n",
       " 'EPSG:3306',\n",
       " 'EPSG:3912',\n",
       " 'EPSG:2298',\n",
       " 'EPSG:5581',\n",
       " 'EPSG:5797',\n",
       " 'EPSG:3269',\n",
       " 'EPSG:32048',\n",
       " 'EPSG:4228',\n",
       " 'EPSG:66246405',\n",
       " 'EPSG:21455',\n",
       " 'EPSG:2720',\n",
       " 'EPSG:20352',\n",
       " 'EPSG:6707',\n",
       " 'EPSG:30493',\n",
       " 'EPSG:2885',\n",
       " 'EPSG:66116405',\n",
       " 'EPSG:5763',\n",
       " 'EPSG:6246',\n",
       " 'EPSG:5669',\n",
       " 'EPSG:32044',\n",
       " 'EPSG:2217',\n",
       " 'EPSG:3819',\n",
       " 'EPSG:3047',\n",
       " 'EPSG:6187',\n",
       " 'EPSG:3552',\n",
       " 'EPSG:32147',\n",
       " 'EPSG:32750',\n",
       " 'EPSG:2483',\n",
       " 'EPSG:32046',\n",
       " 'EPSG:32250',\n",
       " 'EPSG:3666',\n",
       " 'EPSG:2649',\n",
       " 'EPSG:28472',\n",
       " 'EPSG:3498',\n",
       " 'EPSG:23831',\n",
       " 'EPSG:4521',\n",
       " 'EPSG:2457',\n",
       " 'EPSG:6406',\n",
       " 'EPSG:3852',\n",
       " 'EPSG:3880',\n",
       " 'EPSG:5937',\n",
       " ...]"
      ]
     },
     "execution_count": 204,
     "metadata": {},
     "output_type": "execute_result"
    }
   ],
   "source": [
    "wms['NFRIP-WOfS:ClearObservations'].crsOptions"
   ]
  },
  {
   "cell_type": "code",
   "execution_count": 205,
   "metadata": {},
   "outputs": [
    {
     "data": {
      "text/plain": [
       "{'ClearObservations': {'legend': 'http://eos.ga.gov.au:80/geoserver/wms?request=GetLegendGraphic&format=image%2Fpng&width=20&height=20&layer=NFRIP-WOfS%3AClearObservations',\n",
       "  'title': 'WOfS Style: Clear Observations'}}"
      ]
     },
     "execution_count": 205,
     "metadata": {},
     "output_type": "execute_result"
    }
   ],
   "source": [
    "wms['NFRIP-WOfS:ClearObservations'].styles"
   ]
  },
  {
   "cell_type": "code",
   "execution_count": 206,
   "metadata": {},
   "outputs": [
    {
     "data": {
      "text/plain": [
       "['image/png',\n",
       " 'application/atom xml',\n",
       " 'application/atom+xml',\n",
       " 'application/openlayers',\n",
       " 'application/pdf',\n",
       " 'application/rss xml',\n",
       " 'application/rss+xml',\n",
       " 'application/vnd.google-earth.kml',\n",
       " 'application/vnd.google-earth.kml xml',\n",
       " 'application/vnd.google-earth.kml+xml',\n",
       " 'application/vnd.google-earth.kml+xml;mode=networklink',\n",
       " 'application/vnd.google-earth.kmz',\n",
       " 'application/vnd.google-earth.kmz xml',\n",
       " 'application/vnd.google-earth.kmz+xml',\n",
       " 'application/vnd.google-earth.kmz;mode=networklink',\n",
       " 'atom',\n",
       " 'image/geotiff',\n",
       " 'image/geotiff8',\n",
       " 'image/gif',\n",
       " 'image/gif;subtype=animated',\n",
       " 'image/jpeg',\n",
       " 'image/png8',\n",
       " 'image/png; mode=8bit',\n",
       " 'image/svg',\n",
       " 'image/svg xml',\n",
       " 'image/svg+xml',\n",
       " 'image/tiff',\n",
       " 'image/tiff8',\n",
       " 'kml',\n",
       " 'kmz',\n",
       " 'openlayers',\n",
       " 'rss',\n",
       " 'text/html; subtype=openlayers']"
      ]
     },
     "execution_count": 206,
     "metadata": {},
     "output_type": "execute_result"
    }
   ],
   "source": [
    "wms.getOperationByName('GetMap').formatOptions"
   ]
  },
  {
   "cell_type": "markdown",
   "metadata": {},
   "source": [
    "Now we have information about the layer we can make a request for a map."
   ]
  },
  {
   "cell_type": "code",
   "execution_count": 207,
   "metadata": {},
   "outputs": [],
   "source": [
    "wms['NFRIP-WOfS:ClearObservations'].timepositions"
   ]
  },
  {
   "cell_type": "code",
   "execution_count": 208,
   "metadata": {},
   "outputs": [],
   "source": [
    "img = wms.getmap(layers = ['NFRIP-WOfS:ClearObservations'],\n",
    "                 srs='EPSG:4326',\n",
    "                 bbox=(111.58, -48.92, 154.42, -6.08),\n",
    "                 size=(500,500),\n",
    "                 format='image/png',\n",
    "                transparent = True)"
   ]
  },
  {
   "cell_type": "code",
   "execution_count": 209,
   "metadata": {},
   "outputs": [],
   "source": [
    "out=open('mapimage.png', 'wb')"
   ]
  },
  {
   "cell_type": "code",
   "execution_count": 210,
   "metadata": {},
   "outputs": [
    {
     "data": {
      "text/plain": [
       "77385"
      ]
     },
     "execution_count": 210,
     "metadata": {},
     "output_type": "execute_result"
    }
   ],
   "source": [
    "out.write(img.read())"
   ]
  },
  {
   "cell_type": "code",
   "execution_count": 211,
   "metadata": {},
   "outputs": [],
   "source": [
    "out.close()"
   ]
  },
  {
   "cell_type": "markdown",
   "metadata": {},
   "source": [
    "Now lets view the map!"
   ]
  },
  {
   "cell_type": "code",
   "execution_count": 212,
   "metadata": {},
   "outputs": [],
   "source": [
    "from IPython.display import Image"
   ]
  },
  {
   "cell_type": "code",
   "execution_count": 213,
   "metadata": {},
   "outputs": [
    {
     "data": {
      "image/png": "[encoded data removed]",
      "text/plain": [
       "<IPython.core.display.Image object>"
      ]
     },
     "execution_count": 213,
     "metadata": {},
     "output_type": "execute_result"
    }
   ],
   "source": [
    "Image('mapimage.png')"
   ]
  },
  {
   "cell_type": "markdown",
   "metadata": {},
   "source": [
    "usTo understand this map we need a legend. The legend URL is attached to a particular style in the WMS. We used the 'ClearObservations' style so we need to get that legend url and use it to request the legend image."
   ]
  },
  {
   "cell_type": "code",
   "execution_count": 214,
   "metadata": {},
   "outputs": [],
   "source": [
    "legendURL=wms['NFRIP-WOfS:ClearObservations'].styles['ClearObservations']['legend']"
   ]
  },
  {
   "cell_type": "code",
   "execution_count": 215,
   "metadata": {},
   "outputs": [
    {
     "data": {
      "text/html": [
       "<img src=\"http://eos.ga.gov.au:80/geoserver/wms?request=GetLegendGraphic&format=image%2Fpng&width=20&height=20&layer=NFRIP-WOfS%3AClearObservations\"/>"
      ],
      "text/plain": [
       "<IPython.core.display.Image object>"
      ]
     },
     "execution_count": 215,
     "metadata": {},
     "output_type": "execute_result"
    }
   ],
   "source": [
    "Image(url=legendURL)"
   ]
  },
  {
   "cell_type": "markdown",
   "metadata": {},
   "source": [
    "## Image analysis with matplotlib"
   ]
  },
  {
   "cell_type": "markdown",
   "metadata": {},
   "source": [
    "Now we have a map image and a legend describing what the map means. Is it possible to extract any information from this? \n",
    "\n",
    "We can use the matplotlib library to look at the data image.\n",
    "\n",
    "Bear in mind that this map does not contain actual data values - it contains data as colours that correspond to data values. But we can try to 'reverse engineer' the map, along with the legend information, to try to extract some data."
   ]
  },
  {
   "cell_type": "code",
   "execution_count": 216,
   "metadata": {},
   "outputs": [],
   "source": [
    "%matplotlib inline"
   ]
  },
  {
   "cell_type": "code",
   "execution_count": 217,
   "metadata": {},
   "outputs": [],
   "source": [
    "import matplotlib.pyplot as plt"
   ]
  },
  {
   "cell_type": "code",
   "execution_count": 218,
   "metadata": {},
   "outputs": [],
   "source": [
    "import matplotlib.image as mpimg"
   ]
  },
  {
   "cell_type": "code",
   "execution_count": 219,
   "metadata": {},
   "outputs": [],
   "source": [
    "import numpy as np"
   ]
  },
  {
   "cell_type": "code",
   "execution_count": 220,
   "metadata": {},
   "outputs": [],
   "source": [
    "img=mpimg.imread('mapimage.png')"
   ]
  },
  {
   "cell_type": "code",
   "execution_count": 221,
   "metadata": {},
   "outputs": [
    {
     "data": {
      "text/plain": [
       "array([[[ 1.,  1.,  1.,  0.],\n",
       "        [ 1.,  1.,  1.,  0.],\n",
       "        [ 1.,  1.,  1.,  0.],\n",
       "        ..., \n",
       "        [ 1.,  1.,  1.,  0.],\n",
       "        [ 1.,  1.,  1.,  0.],\n",
       "        [ 1.,  1.,  1.,  0.]],\n",
       "\n",
       "       [[ 1.,  1.,  1.,  0.],\n",
       "        [ 1.,  1.,  1.,  0.],\n",
       "        [ 1.,  1.,  1.,  0.],\n",
       "        ..., \n",
       "        [ 1.,  1.,  1.,  0.],\n",
       "        [ 1.,  1.,  1.,  0.],\n",
       "        [ 1.,  1.,  1.,  0.]],\n",
       "\n",
       "       [[ 1.,  1.,  1.,  0.],\n",
       "        [ 1.,  1.,  1.,  0.],\n",
       "        [ 1.,  1.,  1.,  0.],\n",
       "        ..., \n",
       "        [ 1.,  1.,  1.,  0.],\n",
       "        [ 1.,  1.,  1.,  0.],\n",
       "        [ 1.,  1.,  1.,  0.]],\n",
       "\n",
       "       ..., \n",
       "       [[ 1.,  1.,  1.,  0.],\n",
       "        [ 1.,  1.,  1.,  0.],\n",
       "        [ 1.,  1.,  1.,  0.],\n",
       "        ..., \n",
       "        [ 1.,  1.,  1.,  0.],\n",
       "        [ 1.,  1.,  1.,  0.],\n",
       "        [ 1.,  1.,  1.,  0.]],\n",
       "\n",
       "       [[ 1.,  1.,  1.,  0.],\n",
       "        [ 1.,  1.,  1.,  0.],\n",
       "        [ 1.,  1.,  1.,  0.],\n",
       "        ..., \n",
       "        [ 1.,  1.,  1.,  0.],\n",
       "        [ 1.,  1.,  1.,  0.],\n",
       "        [ 1.,  1.,  1.,  0.]],\n",
       "\n",
       "       [[ 1.,  1.,  1.,  0.],\n",
       "        [ 1.,  1.,  1.,  0.],\n",
       "        [ 1.,  1.,  1.,  0.],\n",
       "        ..., \n",
       "        [ 1.,  1.,  1.,  0.],\n",
       "        [ 1.,  1.,  1.,  0.],\n",
       "        [ 1.,  1.,  1.,  0.]]], dtype=float32)"
      ]
     },
     "execution_count": 221,
     "metadata": {},
     "output_type": "execute_result"
    }
   ],
   "source": [
    "img"
   ]
  },
  {
   "cell_type": "code",
   "execution_count": 222,
   "metadata": {},
   "outputs": [],
   "source": [
    "img_data=img[:,:,1]"
   ]
  },
  {
   "cell_type": "code",
   "execution_count": 256,
   "metadata": {},
   "outputs": [
    {
     "data": {
      "text/plain": [
       "<matplotlib.image.AxesImage at 0x7f89180ad048>"
      ]
     },
     "execution_count": 256,
     "metadata": {},
     "output_type": "execute_result"
    },
    {
     "data": {
      "image/png": "[encoded data removed]",
      "text/plain": [
       "<matplotlib.figure.Figure at 0x7f89180c7860>"
      ]
     },
     "metadata": {},
     "output_type": "display_data"
    }
   ],
   "source": [
    "plt.imshow(img_data, cmap='winter')"
   ]
  },
  {
   "cell_type": "code",
   "execution_count": 223,
   "metadata": {},
   "outputs": [],
   "source": [
    "img_mask=img[:,:,3]"
   ]
  },
  {
   "cell_type": "code",
   "execution_count": 232,
   "metadata": {},
   "outputs": [
    {
     "data": {
      "text/plain": [
       "<matplotlib.image.AxesImage at 0x7f891b14c160>"
      ]
     },
     "execution_count": 232,
     "metadata": {},
     "output_type": "execute_result"
    },
    {
     "data": {
      "image/png": "[encoded data removed]",
      "text/plain": [
       "<matplotlib.figure.Figure at 0x7f891aadb940>"
      ]
     },
     "metadata": {},
     "output_type": "display_data"
    }
   ],
   "source": [
    "plt.imshow(img_mask,cmap='jet')"
   ]
  },
  {
   "cell_type": "code",
   "execution_count": 224,
   "metadata": {},
   "outputs": [],
   "source": [
    "#img_mask=np.ma.masked_where(img_mask < 1.0, img_mask)"
   ]
  },
  {
   "cell_type": "code",
   "execution_count": 225,
   "metadata": {},
   "outputs": [
    {
     "data": {
      "text/plain": [
       "array([[ 0.,  0.,  0., ...,  0.,  0.,  0.],\n",
       "       [ 0.,  0.,  0., ...,  0.,  0.,  0.],\n",
       "       [ 0.,  0.,  0., ...,  0.,  0.,  0.],\n",
       "       ..., \n",
       "       [ 0.,  0.,  0., ...,  0.,  0.,  0.],\n",
       "       [ 0.,  0.,  0., ...,  0.,  0.,  0.],\n",
       "       [ 0.,  0.,  0., ...,  0.,  0.,  0.]], dtype=float32)"
      ]
     },
     "execution_count": 225,
     "metadata": {},
     "output_type": "execute_result"
    }
   ],
   "source": [
    "img_mask"
   ]
  },
  {
   "cell_type": "code",
   "execution_count": 250,
   "metadata": {},
   "outputs": [],
   "source": [
    "masked_img=img_data*img_mask*1000"
   ]
  },
  {
   "cell_type": "code",
   "execution_count": 251,
   "metadata": {},
   "outputs": [
    {
     "data": {
      "text/plain": [
       "array([[ 0.,  0.,  0., ...,  0.,  0.,  0.],\n",
       "       [ 0.,  0.,  0., ...,  0.,  0.,  0.],\n",
       "       [ 0.,  0.,  0., ...,  0.,  0.,  0.],\n",
       "       ..., \n",
       "       [ 0.,  0.,  0., ...,  0.,  0.,  0.],\n",
       "       [ 0.,  0.,  0., ...,  0.,  0.,  0.],\n",
       "       [ 0.,  0.,  0., ...,  0.,  0.,  0.]], dtype=float32)"
      ]
     },
     "execution_count": 251,
     "metadata": {},
     "output_type": "execute_result"
    }
   ],
   "source": [
    "masked_img"
   ]
  },
  {
   "cell_type": "code",
   "execution_count": 252,
   "metadata": {},
   "outputs": [
    {
     "data": {
      "image/png": "[encoded data removed]",
      "text/plain": [
       "<matplotlib.figure.Figure at 0x7f8918216710>"
      ]
     },
     "metadata": {},
     "output_type": "display_data"
    }
   ],
   "source": [
    "imgplot=plt.imshow(masked_img,extent=[111.58, 154.42, -48.92,  -6.08])"
   ]
  },
  {
   "cell_type": "code",
   "execution_count": 254,
   "metadata": {},
   "outputs": [
    {
     "data": {
      "text/plain": [
       "(array([     0.,    504.,    104.,    211.,    184.,    220.,    148.,\n",
       "           148.,   1200.,   1415.,   2714.,   3407.,   2386.,   2993.,\n",
       "          5342.,  21109.,   8275.,  10246.,   7552.,  28156.]),\n",
       " array([  1.00000000e-02,   5.00095000e+01,   1.00009000e+02,\n",
       "          1.50008500e+02,   2.00008000e+02,   2.50007500e+02,\n",
       "          3.00007000e+02,   3.50006500e+02,   4.00006000e+02,\n",
       "          4.50005500e+02,   5.00005000e+02,   5.50004500e+02,\n",
       "          6.00004000e+02,   6.50003500e+02,   7.00003000e+02,\n",
       "          7.50002500e+02,   8.00002000e+02,   8.50001500e+02,\n",
       "          9.00001000e+02,   9.50000500e+02,   1.00000000e+03]),\n",
       " <a list of 20 Patch objects>)"
      ]
     },
     "execution_count": 254,
     "metadata": {},
     "output_type": "execute_result"
    },
    {
     "data": {
      "image/png": "[encoded data removed]",
      "text/plain": [
       "<matplotlib.figure.Figure at 0x7f891815a080>"
      ]
     },
     "metadata": {},
     "output_type": "display_data"
    }
   ],
   "source": [
    "plt.hist(masked_img.ravel(), facecolor='green', bins=20, range=(0.01, 1000.00), fc='k', ec='k')"
   ]
  },
  {
   "cell_type": "markdown",
   "metadata": {},
   "source": [
    "https://matplotlib.org/users/colormaps.html"
   ]
  },
  {
   "cell_type": "code",
   "execution_count": null,
   "metadata": {},
   "outputs": [],
   "source": []
  }
 ],
 "metadata": {
  "kernelspec": {
   "display_name": "Python 3",
   "language": "python",
   "name": "python3"
  },
  "language_info": {
   "codemirror_mode": {
    "name": "ipython",
    "version": 3
   },
   "file_extension": ".py",
   "mimetype": "text/x-python",
   "name": "python",
   "nbconvert_exporter": "python",
   "pygments_lexer": "ipython3",
   "version": "3.5.2"
  }
 },
 "nbformat": 4,
 "nbformat_minor": 2
}
