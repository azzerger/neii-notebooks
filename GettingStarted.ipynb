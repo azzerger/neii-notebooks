{
 "cells": [
  {
   "cell_type": "markdown",
   "metadata": {},
   "source": [
    "# Getting Started with Jupyter Notebook and Python"
   ]
  },
  {
   "cell_type": "markdown",
   "metadata": {},
   "source": [
    "Jupyter Notebook is a convenient way to interact with NEII services using the Python programming language. Jupyter Notebook provides an environment where you can run Python code, see the results and save your work as ‘notebooks’ for future reference or to share with others. You can also add text and images to your notebooks."
   ]
  },
  {
   "cell_type": "markdown",
   "metadata": {},
   "source": [
    "<img src=\"images/Notebook.png\" alt=\"A typical Jupyter notebook\" style=\"width: 650px\"/>"
   ]
  },
  {
   "cell_type": "markdown",
   "metadata": {},
   "source": [
    "To get started using Jupyter to access NEII services it is necessary to install:\n",
    "* Python\n",
    "* Jupyter-Notebook\n",
    "* Additional Python libraries (e.g. for querying OGC services and data analysis)\n"
   ]
  },
  {
   "cell_type": "markdown",
   "metadata": {},
   "source": [
    "Jupyter and Python can be installed on Windows, Linux or macOS operating systems. This tutorial focuses on the Windows installation but the principles can be applied to other operating systems."
   ]
  },
  {
   "cell_type": "markdown",
   "metadata": {},
   "source": [
    "## Installation on Windows"
   ]
  },
  {
   "cell_type": "markdown",
   "metadata": {},
   "source": [
    "On Windows there are several ways to install both Python and the Jupyter notebook and any method that works is acceptable. Here we will use the Anaconda Python distribution since it install both Python and Jupyter-Notebook in an easy to use installer package."
   ]
  },
  {
   "cell_type": "markdown",
   "metadata": {},
   "source": [
    "### Step 1: Download Anaconda"
   ]
  },
  {
   "cell_type": "markdown",
   "metadata": {},
   "source": [
    "Download the Anaconda installation package from https://www.anaconda.com/download/"
   ]
  },
  {
   "cell_type": "markdown",
   "metadata": {},
   "source": [
    "Choose the latest Python (3.X) version and the right distribution for your operating system, either 64 or 32 bit.  If you are unsure right-click on *This PC* (or *My Computer*) in Windows Explorer and select *properties* to see what operating system your computer is running. If you are unable to determine whether you are using 64 or 32 bit download the 32 bit version as this will also work on a 64 bit system."
   ]
  },
  {
   "cell_type": "markdown",
   "metadata": {},
   "source": [
    "### Step 2: Install Anaconda"
   ]
  },
  {
   "cell_type": "markdown",
   "metadata": {},
   "source": [
    "Once, downloaded, select and run the installation program. You will be asked if you want to install Anaconda system wide or in a user directory (*Just Me*). To install system wide you will need Administrative rights to your Windows operating system. So we recommend installing in the user directory."
   ]
  },
  {
   "cell_type": "markdown",
   "metadata": {},
   "source": [
    "<img src=\"images/AnacondaSetup.png\" alt=\"Anaconda Installation\" style=\"width: 650px\"/>"
   ]
  },
  {
   "cell_type": "markdown",
   "metadata": {},
   "source": [
    "Once setup is complete you should see this screen:"
   ]
  },
  {
   "cell_type": "markdown",
   "metadata": {},
   "source": [
    "<img src=\"images/AnacondaComplete.png\" alt=\"Completed Anaconda Install\" style=\"width: 650px\"/>"
   ]
  },
  {
   "cell_type": "markdown",
   "metadata": {},
   "source": [
    "And you should have an Anaconda directory in your Windows start menu, with shortcuts for Jupyter Notebook and the Spyder Python editor (plus other tools:"
   ]
  },
  {
   "cell_type": "markdown",
   "metadata": {},
   "source": [
    "<img src=\"images/menu.png\" alt=\"A typical Jupyter notebook\" style=\"width: 650px\"/>"
   ]
  },
  {
   "cell_type": "markdown",
   "metadata": {},
   "source": [
    "### Step 3: Run Jupyter Notebook"
   ]
  },
  {
   "cell_type": "markdown",
   "metadata": {},
   "source": [
    "To check the installation click on the Jupyter Notebook icon. You should see a new browser tab open with the Jupyter dashboard visible."
   ]
  },
  {
   "cell_type": "markdown",
   "metadata": {},
   "source": [
    "The Jupyter dashboard shows files on the operating system. By default this is the user directory but it can be configured to open in other directories. Using the dashboard you can browse through directories to look for notebooks or other files."
   ]
  },
  {
   "cell_type": "markdown",
   "metadata": {},
   "source": [
    "<img src=\"images/JupyterDashboard.png\" alt=\"A typical Jupyter notebook\" style=\"width: 650px\"/>"
   ]
  },
  {
   "cell_type": "markdown",
   "metadata": {},
   "source": [
    "It is worth noting that you can't browse 'up' from the directory in which Jupyter opens. "
   ]
  },
  {
   "cell_type": "markdown",
   "metadata": {},
   "source": [
    "### Step 4: Create a first Notebook"
   ]
  },
  {
   "cell_type": "markdown",
   "metadata": {},
   "source": [
    "Select *New* to create a new Jupyter notebook. Now you can add some python code and run through the code visually."
   ]
  },
  {
   "cell_type": "markdown",
   "metadata": {},
   "source": [
    "If you don't know Python yet, here is some code to try out. Enter the following lines of python on two separate lines in the notebook then use the arrow icon to run through the code."
   ]
  },
  {
   "cell_type": "code",
   "execution_count": 4,
   "metadata": {
    "collapsed": true
   },
   "outputs": [],
   "source": [
    "n=3"
   ]
  },
  {
   "cell_type": "code",
   "execution_count": 5,
   "metadata": {},
   "outputs": [
    {
     "name": "stdout",
     "output_type": "stream",
     "text": [
      "I am not a number but 0 is a number\n",
      "I am not a number but 1 is a number\n",
      "I am not a number but 2 is a number\n"
     ]
    }
   ],
   "source": [
    "for i in range(n):\n",
    "    print ('I am not a number but ' + str(i) + ' is a number')"
   ]
  },
  {
   "cell_type": "markdown",
   "metadata": {},
   "source": [
    "Try varying the value of 'n' and run through the code with the arrow button again to change the output."
   ]
  },
  {
   "cell_type": "markdown",
   "metadata": {},
   "source": [
    "Now Jupyter is working the additional python libraries can be installed to start working with NEII services."
   ]
  },
  {
   "cell_type": "markdown",
   "metadata": {},
   "source": [
    "### Step 5: Install additional Python Libraries "
   ]
  },
  {
   "cell_type": "markdown",
   "metadata": {},
   "source": [
    "The OWSLib python library can be used to access OGC (Open Geospatial Consortium) services including NEII services.\n",
    "To install OWSLib:\n",
    "\n",
    "* Run *Anaconda Prompt* from the start menu.\n",
    "* Type the command *pip install OWSLib* and press enter.\n",
    "\n",
    "Pip is a python package management tool that can download and install software from PyPI (https://pypi.python.org).\n",
    "Since OWSLib is available on PyPI it can be installed using the pip command."
   ]
  },
  {
   "cell_type": "markdown",
   "metadata": {},
   "source": [
    "It is quite likely the installation fails at this point as OWSLib depends on a library pyproj which contains some C code, so unless your machine has a C compiler installed it will fail with an error message like:\n",
    "\n",
    "*distutils.errors.DistutilsPlatformError: Microsoft Visual C++ 14.0 is required. Get it with \"Microsoft Visual C++ Build Tools\": http://landinghub.visualstudio.com/visual-cpp-build-tools*\n",
    "\n",
    "If you see this error, install the Visual C++ build tools as directed (it is a simple download install). Then try the *pip install OWSLib* command again."
   ]
  },
  {
   "cell_type": "markdown",
   "metadata": {},
   "source": [
    "To test if OWSLib has installed run the command *import owslib* in a Jupyter Notebook\n",
    "\n",
    "If there is no output after this command has run then owslib has been installed sucessfully."
   ]
  },
  {
   "cell_type": "markdown",
   "metadata": {},
   "source": [
    "### Step 6: Start using Juypter Notebook to query NEII services"
   ]
  },
  {
   "cell_type": "markdown",
   "metadata": {},
   "source": [
    "To get started with NEII services there are several notebooks on different topics. To use these notebooks save them as a .ipynb file to your computer and open them using your Jupyter tool. You can then execute the code on your machine as well as change it to try out different things."
   ]
  },
  {
   "cell_type": "markdown",
   "metadata": {},
   "source": [
    "Go [back](../jupyter-notebooks/README.md) to index."
   ]
  }
 ],
 "metadata": {
  "kernelspec": {
   "display_name": "Python 3",
   "language": "python",
   "name": "python3"
  },
  "language_info": {
   "codemirror_mode": {
    "name": "ipython",
    "version": 3
   },
   "file_extension": ".py",
   "mimetype": "text/x-python",
   "name": "python",
   "nbconvert_exporter": "python",
   "pygments_lexer": "ipython3",
   "version": "3.5.2"
  }
 },
 "nbformat": 4,
 "nbformat_minor": 2
}
