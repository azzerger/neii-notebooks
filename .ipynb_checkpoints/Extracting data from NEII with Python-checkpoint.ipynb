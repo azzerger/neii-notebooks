{
 "cells": [
  {
   "cell_type": "markdown",
   "metadata": {},
   "source": [
    "# Accessing NEII with Python"
   ]
  },
  {
   "cell_type": "markdown",
   "metadata": {},
   "source": [
    "This notebook demonstrates how to programmatically access the National Environmental Information Infrastructure catalogue and data services using Python. First we will search the catalogue. To do this we use the OWSLib Python library."
   ]
  },
  {
   "cell_type": "code",
   "execution_count": 11,
   "metadata": {},
   "outputs": [],
   "source": [
    "from owslib.csw import CatalogueServiceWeb"
   ]
  },
  {
   "cell_type": "code",
   "execution_count": 12,
   "metadata": {},
   "outputs": [],
   "source": [
    "from owslib import fes"
   ]
  },
  {
   "cell_type": "code",
   "execution_count": 13,
   "metadata": {},
   "outputs": [],
   "source": [
    "c=CatalogueServiceWeb('http://neii.bom.gov.au/services/catalogue/csw')"
   ]
  },
  {
   "cell_type": "code",
   "execution_count": 14,
   "metadata": {},
   "outputs": [],
   "source": [
    "textQuery= fes.PropertyIsLike('csw:AnyText', 'Solar')"
   ]
  },
  {
   "cell_type": "code",
   "execution_count": 15,
   "metadata": {},
   "outputs": [],
   "source": [
    "c.getrecords2(constraints=[textQuery], esn='full', maxrecords=10)"
   ]
  },
  {
   "cell_type": "code",
   "execution_count": 16,
   "metadata": {},
   "outputs": [
    {
     "data": {
      "text/plain": [
       "1"
      ]
     },
     "execution_count": 16,
     "metadata": {},
     "output_type": "execute_result"
    }
   ],
   "source": [
    "c.results['matches']"
   ]
  },
  {
   "cell_type": "markdown",
   "metadata": {},
   "source": [
    "Now loop through the results. c.records is a dictionary object so you need to access each item in the dictionary in turn. The following code access a few key properties including the service urls to see if there are any data services for the record."
   ]
  },
  {
   "cell_type": "code",
   "execution_count": 17,
   "metadata": {},
   "outputs": [
    {
     "name": "stdout",
     "output_type": "stream",
     "text": [
      "*********** Record summary ************ \n",
      "\n",
      "ID:34b50bab-8124-4c78-a1d1-a0a83601ec56\n",
      "Australian Gridded Solar Climatology Web Data Services\n",
      "These datasets are long term averages of solar radiation at the surface over the Australian land mass. Applications of these data include solar energy, agriculture, building thermal design and water balance modelling. Climatologies are given for two radiation parameters: the global horizontal exposure, which is the total amount of solar energy falling on a horizontal surface over a time interval; and the direct normal exposure which is the total of the component of radiation from the sun’s disk on a plane perpendicular to the beam. Climatologies of daily exposure are given as an annual average and as a set of twelve monthly averages. Climatologies of the diurnal cycle are given as monthly averages of hourly exposures through the day. These data sets are derived from 23 years (1990 - 2012) of data from satellites operated by Japan Meteorological Agency and the US National Oceanographic & Atmospheric Administration. NEII\n",
      "Solar Climatology - Monthly-hourly climatology of hourly exposure (Global Horizontal Exposure) - Web Map Service\n",
      "http://neii.bom.gov.au/services/solarclim/wms/data/monClim_gloHorExp1Hou.nc?service=WMS&version=1.3.0&request=GetCapabilities\n",
      "\n",
      "Solar Climatology - Monthly-hourly climatology of hourly exposure (Direct Normal Exposure) - Web Map Service\n",
      "http://neii.bom.gov.au/services/solarclim/wms/data/monClim_dirNorExp1Hou.nc?service=WMS&version=1.3.0&request=GetCapabilities\n",
      "\n",
      "Solar Climatology - Monthly climatology of daily exposure (Global Horizontal Exposure) - Web Map Service\n",
      "http://neii.bom.gov.au/services/solarclim/wms/data/monClim_gloHorExp1Day.nc?service=WMS&version=1.3.0&request=GetCapabilities\n",
      "\n",
      "Solar Climatology - Monthly climatology of daily exposure (Direct Normal Exposure) - Web Map Service\n",
      "http://neii.bom.gov.au/services/solarclim/wms/data/monClim_dirNorExp1Day.nc?service=WMS&version=1.3.0&request=GetCapabilities\n",
      "\n",
      "Solar Climatology - Annual climatology of daily exposure (Global Horizontal Exposure) - Web Map Service\n",
      "http://neii.bom.gov.au/services/solarclim/wms/data/annClim_gloHorExp1Day.nc?service=WMS&version=1.3.0&request=GetCapabilities\n",
      "\n",
      "Solar Climatology - Annual climatology of daily exposure (Direct Normal Exposure) - Web Map Service\n",
      "http://neii.bom.gov.au/services/solarclim/wms/data/annClim_dirNorExp1Day.nc?service=WMS&version=1.3.0&request=GetCapabilities\n",
      "\n",
      "Solar Climatology - Solar Climatology data products - OPeNDAP (XML)\n",
      "http://neii.bom.gov.au/services/solarclim/catalog.xml\n",
      "\n",
      "*********** End of summary ************ \n",
      "\n"
     ]
    }
   ],
   "source": [
    "for record in c.records:\n",
    "    cswRecord = c.records[record]\n",
    "    print ('*********** Record summary ************ \\n')\n",
    "    print ('ID:' + cswRecord.identifier)\n",
    "    print (cswRecord.title)\n",
    "    print (cswRecord.abstract)\n",
    "    for service in cswRecord.uris:\n",
    "        print (service['name']) \n",
    "        print (service['url'] + '\\n')\n",
    "    print ('*********** End of summary ************ \\n')"
   ]
  },
  {
   "cell_type": "code",
   "execution_count": 18,
   "metadata": {},
   "outputs": [
    {
     "name": "stdout",
     "output_type": "stream",
     "text": [
      "Solar Climatology - Monthly-hourly climatology of hourly exposure (Global Horizontal Exposure) - Web Map Service\n",
      "http://neii.bom.gov.au/services/solarclim/wms/data/monClim_gloHorExp1Hou.nc?service=WMS&version=1.3.0&request=GetCapabilities\n",
      "\n",
      "Solar Climatology - Monthly-hourly climatology of hourly exposure (Direct Normal Exposure) - Web Map Service\n",
      "http://neii.bom.gov.au/services/solarclim/wms/data/monClim_dirNorExp1Hou.nc?service=WMS&version=1.3.0&request=GetCapabilities\n",
      "\n",
      "Solar Climatology - Monthly climatology of daily exposure (Global Horizontal Exposure) - Web Map Service\n",
      "http://neii.bom.gov.au/services/solarclim/wms/data/monClim_gloHorExp1Day.nc?service=WMS&version=1.3.0&request=GetCapabilities\n",
      "\n",
      "Solar Climatology - Monthly climatology of daily exposure (Direct Normal Exposure) - Web Map Service\n",
      "http://neii.bom.gov.au/services/solarclim/wms/data/monClim_dirNorExp1Day.nc?service=WMS&version=1.3.0&request=GetCapabilities\n",
      "\n",
      "Solar Climatology - Annual climatology of daily exposure (Global Horizontal Exposure) - Web Map Service\n",
      "http://neii.bom.gov.au/services/solarclim/wms/data/annClim_gloHorExp1Day.nc?service=WMS&version=1.3.0&request=GetCapabilities\n",
      "\n",
      "Solar Climatology - Annual climatology of daily exposure (Direct Normal Exposure) - Web Map Service\n",
      "http://neii.bom.gov.au/services/solarclim/wms/data/annClim_dirNorExp1Day.nc?service=WMS&version=1.3.0&request=GetCapabilities\n",
      "\n",
      "Solar Climatology - Solar Climatology data products - OPeNDAP (XML)\n",
      "http://neii.bom.gov.au/services/solarclim/catalog.xml\n",
      "\n"
     ]
    }
   ],
   "source": [
    "for record in c.records:\n",
    "    cswRecord = c.records[record]\n",
    "    for service in cswRecord.uris:\n",
    "        print (service['name']) \n",
    "        print (service['url'] + '\\n')\n",
    " "
   ]
  },
  {
   "cell_type": "markdown",
   "metadata": {},
   "source": [
    "Now we have found some OGC Web Map Services (WMS) containing Water Quality information. We can use OWSLib again to query a WMS and get back a map image. We will query the Annual Composites Web Map Service."
   ]
  },
  {
   "cell_type": "code",
   "execution_count": 19,
   "metadata": {},
   "outputs": [],
   "source": [
    "from owslib.wms import WebMapService"
   ]
  },
  {
   "cell_type": "code",
   "execution_count": 23,
   "metadata": {},
   "outputs": [],
   "source": [
    "wms=WebMapService('http://ereeftds.bom.gov.au/ereefs/tds/wms/ereefs/mwq_gridAgg_P1A')"
   ]
  },
  {
   "cell_type": "code",
   "execution_count": 25,
   "metadata": {},
   "outputs": [
    {
     "data": {
      "text/plain": [
       "'THREDDS Data Server'"
      ]
     },
     "execution_count": 25,
     "metadata": {},
     "output_type": "execute_result"
    }
   ],
   "source": [
    "wms.identification.title"
   ]
  },
  {
   "cell_type": "code",
   "execution_count": 27,
   "metadata": {},
   "outputs": [
    {
     "data": {
      "text/plain": [
       "['Chl_MIM_n_obs',\n",
       " 'Chl_MIM_n_cloud',\n",
       " 'Chl_MIM_n_valid_obs',\n",
       " 'Chl_MIM_pc_cloud',\n",
       " 'Chl_MIM_pc_valid_obs',\n",
       " 'Chl_MIM_minimum',\n",
       " 'Chl_MIM_maximum',\n",
       " 'Chl_MIM_median',\n",
       " 'Chl_MIM_mean',\n",
       " 'Chl_MIM_variance',\n",
       " 'Chl_MIM_stddev',\n",
       " 'Chl_MIM_anomaly',\n",
       " 'Chl_MIM_n_above_annual_threshold',\n",
       " 'Chl_MIM_pc_above_annual_threshold',\n",
       " 'Chl_MIM_n_above_seasonal_threshold',\n",
       " 'Chl_MIM_pc_above_seasonal_threshold',\n",
       " 'Chl_MIM_median_above_annual_threshold',\n",
       " 'Chl_MIM_mean_above_annual_threshold',\n",
       " 'Chl_MIM_median_above_seasonal_threshold',\n",
       " 'Chl_MIM_mean_above_seasonal_threshold',\n",
       " 'Kd_490_MIM_n_obs',\n",
       " 'Kd_490_MIM_n_cloud',\n",
       " 'Kd_490_MIM_n_valid_obs',\n",
       " 'Kd_490_MIM_pc_cloud',\n",
       " 'Kd_490_MIM_pc_valid_obs',\n",
       " 'Kd_490_MIM_minimum',\n",
       " 'Kd_490_MIM_maximum',\n",
       " 'Kd_490_MIM_median',\n",
       " 'Kd_490_MIM_mean',\n",
       " 'Kd_490_MIM_variance',\n",
       " 'Kd_490_MIM_stddev',\n",
       " 'Kd_490_MIM_anomaly',\n",
       " 'Kd_490_MIM_n_above_annual_threshold',\n",
       " 'Kd_490_MIM_pc_above_annual_threshold',\n",
       " 'Kd_490_MIM_n_above_seasonal_threshold',\n",
       " 'Kd_490_MIM_pc_above_seasonal_threshold',\n",
       " 'Kd_490_MIM_median_above_annual_threshold',\n",
       " 'Kd_490_MIM_mean_above_annual_threshold',\n",
       " 'Kd_490_MIM_median_above_seasonal_threshold',\n",
       " 'Kd_490_MIM_mean_above_seasonal_threshold',\n",
       " 'CDOM_MIM_n_obs',\n",
       " 'CDOM_MIM_n_cloud',\n",
       " 'CDOM_MIM_n_valid_obs',\n",
       " 'CDOM_MIM_pc_cloud',\n",
       " 'CDOM_MIM_pc_valid_obs',\n",
       " 'CDOM_MIM_minimum',\n",
       " 'CDOM_MIM_maximum',\n",
       " 'CDOM_MIM_median',\n",
       " 'CDOM_MIM_mean',\n",
       " 'CDOM_MIM_variance',\n",
       " 'CDOM_MIM_stddev',\n",
       " 'CDOM_MIM_anomaly',\n",
       " 'CDOM_MIM_n_above_annual_threshold',\n",
       " 'CDOM_MIM_pc_above_annual_threshold',\n",
       " 'CDOM_MIM_n_above_seasonal_threshold',\n",
       " 'CDOM_MIM_pc_above_seasonal_threshold',\n",
       " 'CDOM_MIM_median_above_annual_threshold',\n",
       " 'CDOM_MIM_mean_above_annual_threshold',\n",
       " 'CDOM_MIM_median_above_seasonal_threshold',\n",
       " 'CDOM_MIM_mean_above_seasonal_threshold',\n",
       " 'SD_MIM_n_obs',\n",
       " 'SD_MIM_n_cloud',\n",
       " 'SD_MIM_n_valid_obs',\n",
       " 'SD_MIM_pc_cloud',\n",
       " 'SD_MIM_pc_valid_obs',\n",
       " 'SD_MIM_minimum',\n",
       " 'SD_MIM_maximum',\n",
       " 'SD_MIM_median',\n",
       " 'SD_MIM_mean',\n",
       " 'SD_MIM_variance',\n",
       " 'SD_MIM_stddev',\n",
       " 'SD_MIM_anomaly',\n",
       " 'SD_MIM_n_below_annual_threshold',\n",
       " 'SD_MIM_pc_below_annual_threshold',\n",
       " 'SD_MIM_n_below_seasonal_threshold',\n",
       " 'SD_MIM_pc_below_seasonal_threshold',\n",
       " 'SD_MIM_median_below_annual_threshold',\n",
       " 'SD_MIM_mean_below_annual_threshold',\n",
       " 'SD_MIM_median_below_seasonal_threshold',\n",
       " 'SD_MIM_mean_below_seasonal_threshold',\n",
       " 'Nap_MIM_n_obs',\n",
       " 'Nap_MIM_n_cloud',\n",
       " 'Nap_MIM_n_valid_obs',\n",
       " 'Nap_MIM_pc_cloud',\n",
       " 'Nap_MIM_pc_valid_obs',\n",
       " 'Nap_MIM_minimum',\n",
       " 'Nap_MIM_maximum',\n",
       " 'Nap_MIM_median',\n",
       " 'Nap_MIM_mean',\n",
       " 'Nap_MIM_variance',\n",
       " 'Nap_MIM_stddev',\n",
       " 'Nap_MIM_anomaly',\n",
       " 'Nap_MIM_n_above_annual_threshold',\n",
       " 'Nap_MIM_pc_above_annual_threshold',\n",
       " 'Nap_MIM_n_above_seasonal_threshold',\n",
       " 'Nap_MIM_pc_above_seasonal_threshold',\n",
       " 'Nap_MIM_median_above_annual_threshold',\n",
       " 'Nap_MIM_mean_above_annual_threshold',\n",
       " 'Nap_MIM_median_above_seasonal_threshold',\n",
       " 'Nap_MIM_mean_above_seasonal_threshold',\n",
       " 'dR_MIM_n_obs',\n",
       " 'dR_MIM_n_cloud',\n",
       " 'dR_MIM_n_valid_obs',\n",
       " 'dR_MIM_pc_cloud',\n",
       " 'dR_MIM_pc_valid_obs',\n",
       " 'dR_MIM_minimum',\n",
       " 'dR_MIM_maximum',\n",
       " 'dR_MIM_median',\n",
       " 'dR_MIM_mean',\n",
       " 'dR_MIM_variance',\n",
       " 'dR_MIM_stddev',\n",
       " 'siop_MIM_n_obs',\n",
       " 'siop_MIM_n_cloud',\n",
       " 'siop_MIM_n_valid_obs',\n",
       " 'siop_MIM_pc_cloud',\n",
       " 'siop_MIM_pc_valid_obs',\n",
       " 'siop_MIM_minimum',\n",
       " 'siop_MIM_maximum',\n",
       " 'siop_MIM_median',\n",
       " 'siop_MIM_mean',\n",
       " 'siop_MIM_variance',\n",
       " 'siop_MIM_stddev']"
      ]
     },
     "execution_count": 27,
     "metadata": {},
     "output_type": "execute_result"
    }
   ],
   "source": [
    "list(wms.contents)"
   ]
  },
  {
   "cell_type": "code",
   "execution_count": 28,
   "metadata": {},
   "outputs": [
    {
     "data": {
      "text/plain": [
       "'mass_concentration_of_chlorophyll_in_sea_water'"
      ]
     },
     "execution_count": 28,
     "metadata": {},
     "output_type": "execute_result"
    }
   ],
   "source": [
    "wms['Chl_MIM_mean'].title"
   ]
  },
  {
   "cell_type": "code",
   "execution_count": 29,
   "metadata": {},
   "outputs": [
    {
     "data": {
      "text/plain": [
       "(142.0050048828125,\n",
       " -25.4950008392334,\n",
       " 155.9949951171875,\n",
       " -9.505000114440918,\n",
       " 'EPSG:4326')"
      ]
     },
     "execution_count": 29,
     "metadata": {},
     "output_type": "execute_result"
    }
   ],
   "source": [
    "wms['Chl_MIM_mean'].boundingBox"
   ]
  },
  {
   "cell_type": "code",
   "execution_count": 30,
   "metadata": {},
   "outputs": [
    {
     "data": {
      "text/plain": [
       "['CRS:84',\n",
       " 'EPSG:3857',\n",
       " 'EPSG:3408',\n",
       " 'EPSG:27700',\n",
       " 'EPSG:32661',\n",
       " 'EPSG:32761',\n",
       " 'EPSG:3409',\n",
       " 'EPSG:41001',\n",
       " 'EPSG:4326']"
      ]
     },
     "execution_count": 30,
     "metadata": {},
     "output_type": "execute_result"
    }
   ],
   "source": [
    "wms['Chl_MIM_mean'].crsOptions"
   ]
  },
  {
   "cell_type": "code",
   "execution_count": 31,
   "metadata": {},
   "outputs": [
    {
     "data": {
      "text/plain": [
       "{'boxfill/alg': {'legend': 'http://ereeftds.bom.gov.au/ereefs/tds/wms/ereefs/mwq_gridAgg_P1A?REQUEST=GetLegendGraphic&LAYER=Chl_MIM_mean&PALETTE=alg',\n",
       "  'title': 'boxfill/alg'},\n",
       " 'boxfill/alg2': {'legend': 'http://ereeftds.bom.gov.au/ereefs/tds/wms/ereefs/mwq_gridAgg_P1A?REQUEST=GetLegendGraphic&LAYER=Chl_MIM_mean&PALETTE=alg2',\n",
       "  'title': 'boxfill/alg2'},\n",
       " 'boxfill/days_monthly': {'legend': 'http://ereeftds.bom.gov.au/ereefs/tds/wms/ereefs/mwq_gridAgg_P1A?REQUEST=GetLegendGraphic&LAYER=Chl_MIM_mean&PALETTE=days_monthly',\n",
       "  'title': 'boxfill/days_monthly'},\n",
       " 'boxfill/days_seasonaly': {'legend': 'http://ereeftds.bom.gov.au/ereefs/tds/wms/ereefs/mwq_gridAgg_P1A?REQUEST=GetLegendGraphic&LAYER=Chl_MIM_mean&PALETTE=days_seasonaly',\n",
       "  'title': 'boxfill/days_seasonaly'},\n",
       " 'boxfill/days_weekly': {'legend': 'http://ereeftds.bom.gov.au/ereefs/tds/wms/ereefs/mwq_gridAgg_P1A?REQUEST=GetLegendGraphic&LAYER=Chl_MIM_mean&PALETTE=days_weekly',\n",
       "  'title': 'boxfill/days_weekly'},\n",
       " 'boxfill/days_yearly': {'legend': 'http://ereeftds.bom.gov.au/ereefs/tds/wms/ereefs/mwq_gridAgg_P1A?REQUEST=GetLegendGraphic&LAYER=Chl_MIM_mean&PALETTE=days_yearly',\n",
       "  'title': 'boxfill/days_yearly'},\n",
       " 'boxfill/ferret': {'legend': 'http://ereeftds.bom.gov.au/ereefs/tds/wms/ereefs/mwq_gridAgg_P1A?REQUEST=GetLegendGraphic&LAYER=Chl_MIM_mean&PALETTE=ferret',\n",
       "  'title': 'boxfill/ferret'},\n",
       " 'boxfill/greyscale': {'legend': 'http://ereeftds.bom.gov.au/ereefs/tds/wms/ereefs/mwq_gridAgg_P1A?REQUEST=GetLegendGraphic&LAYER=Chl_MIM_mean&PALETTE=greyscale',\n",
       "  'title': 'boxfill/greyscale'},\n",
       " 'boxfill/mwq_cdom': {'legend': 'http://ereeftds.bom.gov.au/ereefs/tds/wms/ereefs/mwq_gridAgg_P1A?REQUEST=GetLegendGraphic&LAYER=Chl_MIM_mean&PALETTE=mwq_cdom',\n",
       "  'title': 'boxfill/mwq_cdom'},\n",
       " 'boxfill/mwq_cdom_anomaly': {'legend': 'http://ereeftds.bom.gov.au/ereefs/tds/wms/ereefs/mwq_gridAgg_P1A?REQUEST=GetLegendGraphic&LAYER=Chl_MIM_mean&PALETTE=mwq_cdom_anomaly',\n",
       "  'title': 'boxfill/mwq_cdom_anomaly'},\n",
       " 'boxfill/mwq_chl': {'legend': 'http://ereeftds.bom.gov.au/ereefs/tds/wms/ereefs/mwq_gridAgg_P1A?REQUEST=GetLegendGraphic&LAYER=Chl_MIM_mean&PALETTE=mwq_chl',\n",
       "  'title': 'boxfill/mwq_chl'},\n",
       " 'boxfill/mwq_chl_anomaly': {'legend': 'http://ereeftds.bom.gov.au/ereefs/tds/wms/ereefs/mwq_gridAgg_P1A?REQUEST=GetLegendGraphic&LAYER=Chl_MIM_mean&PALETTE=mwq_chl_anomaly',\n",
       "  'title': 'boxfill/mwq_chl_anomaly'},\n",
       " 'boxfill/mwq_k490': {'legend': 'http://ereeftds.bom.gov.au/ereefs/tds/wms/ereefs/mwq_gridAgg_P1A?REQUEST=GetLegendGraphic&LAYER=Chl_MIM_mean&PALETTE=mwq_k490',\n",
       "  'title': 'boxfill/mwq_k490'},\n",
       " 'boxfill/mwq_k490_anomaly': {'legend': 'http://ereeftds.bom.gov.au/ereefs/tds/wms/ereefs/mwq_gridAgg_P1A?REQUEST=GetLegendGraphic&LAYER=Chl_MIM_mean&PALETTE=mwq_k490_anomaly',\n",
       "  'title': 'boxfill/mwq_k490_anomaly'},\n",
       " 'boxfill/mwq_nap': {'legend': 'http://ereeftds.bom.gov.au/ereefs/tds/wms/ereefs/mwq_gridAgg_P1A?REQUEST=GetLegendGraphic&LAYER=Chl_MIM_mean&PALETTE=mwq_nap',\n",
       "  'title': 'boxfill/mwq_nap'},\n",
       " 'boxfill/mwq_nap_anomaly': {'legend': 'http://ereeftds.bom.gov.au/ereefs/tds/wms/ereefs/mwq_gridAgg_P1A?REQUEST=GetLegendGraphic&LAYER=Chl_MIM_mean&PALETTE=mwq_nap_anomaly',\n",
       "  'title': 'boxfill/mwq_nap_anomaly'},\n",
       " 'boxfill/mwq_ql': {'legend': 'http://ereeftds.bom.gov.au/ereefs/tds/wms/ereefs/mwq_gridAgg_P1A?REQUEST=GetLegendGraphic&LAYER=Chl_MIM_mean&PALETTE=mwq_ql',\n",
       "  'title': 'boxfill/mwq_ql'},\n",
       " 'boxfill/ncview': {'legend': 'http://ereeftds.bom.gov.au/ereefs/tds/wms/ereefs/mwq_gridAgg_P1A?REQUEST=GetLegendGraphic&LAYER=Chl_MIM_mean&PALETTE=ncview',\n",
       "  'title': 'boxfill/ncview'},\n",
       " 'boxfill/occam': {'legend': 'http://ereeftds.bom.gov.au/ereefs/tds/wms/ereefs/mwq_gridAgg_P1A?REQUEST=GetLegendGraphic&LAYER=Chl_MIM_mean&PALETTE=occam',\n",
       "  'title': 'boxfill/occam'},\n",
       " 'boxfill/occam_pastel-30': {'legend': 'http://ereeftds.bom.gov.au/ereefs/tds/wms/ereefs/mwq_gridAgg_P1A?REQUEST=GetLegendGraphic&LAYER=Chl_MIM_mean&PALETTE=occam_pastel-30',\n",
       "  'title': 'boxfill/occam_pastel-30'},\n",
       " 'boxfill/percentage': {'legend': 'http://ereeftds.bom.gov.au/ereefs/tds/wms/ereefs/mwq_gridAgg_P1A?REQUEST=GetLegendGraphic&LAYER=Chl_MIM_mean&PALETTE=percentage',\n",
       "  'title': 'boxfill/percentage'},\n",
       " 'boxfill/rainbow': {'legend': 'http://ereeftds.bom.gov.au/ereefs/tds/wms/ereefs/mwq_gridAgg_P1A?REQUEST=GetLegendGraphic&LAYER=Chl_MIM_mean&PALETTE=rainbow',\n",
       "  'title': 'boxfill/rainbow'},\n",
       " 'boxfill/redblue': {'legend': 'http://ereeftds.bom.gov.au/ereefs/tds/wms/ereefs/mwq_gridAgg_P1A?REQUEST=GetLegendGraphic&LAYER=Chl_MIM_mean&PALETTE=redblue',\n",
       "  'title': 'boxfill/redblue'},\n",
       " 'boxfill/rt2_dhd': {'legend': 'http://ereeftds.bom.gov.au/ereefs/tds/wms/ereefs/mwq_gridAgg_P1A?REQUEST=GetLegendGraphic&LAYER=Chl_MIM_mean&PALETTE=rt2_dhd',\n",
       "  'title': 'boxfill/rt2_dhd'},\n",
       " 'boxfill/rt2_dhdcount': {'legend': 'http://ereeftds.bom.gov.au/ereefs/tds/wms/ereefs/mwq_gridAgg_P1A?REQUEST=GetLegendGraphic&LAYER=Chl_MIM_mean&PALETTE=rt2_dhdcount',\n",
       "  'title': 'boxfill/rt2_dhdcount'},\n",
       " 'boxfill/rt2_gapper2': {'legend': 'http://ereeftds.bom.gov.au/ereefs/tds/wms/ereefs/mwq_gridAgg_P1A?REQUEST=GetLegendGraphic&LAYER=Chl_MIM_mean&PALETTE=rt2_gapper2',\n",
       "  'title': 'boxfill/rt2_gapper2'},\n",
       " 'boxfill/rt2_mosaicage_pr': {'legend': 'http://ereeftds.bom.gov.au/ereefs/tds/wms/ereefs/mwq_gridAgg_P1A?REQUEST=GetLegendGraphic&LAYER=Chl_MIM_mean&PALETTE=rt2_mosaicage_pr',\n",
       "  'title': 'boxfill/rt2_mosaicage_pr'},\n",
       " 'boxfill/rt2_mpsa': {'legend': 'http://ereeftds.bom.gov.au/ereefs/tds/wms/ereefs/mwq_gridAgg_P1A?REQUEST=GetLegendGraphic&LAYER=Chl_MIM_mean&PALETTE=rt2_mpsa',\n",
       "  'title': 'boxfill/rt2_mpsa'},\n",
       " 'boxfill/rt2_ql': {'legend': 'http://ereeftds.bom.gov.au/ereefs/tds/wms/ereefs/mwq_gridAgg_P1A?REQUEST=GetLegendGraphic&LAYER=Chl_MIM_mean&PALETTE=rt2_ql',\n",
       "  'title': 'boxfill/rt2_ql'},\n",
       " 'boxfill/rt2_sses': {'legend': 'http://ereeftds.bom.gov.au/ereefs/tds/wms/ereefs/mwq_gridAgg_P1A?REQUEST=GetLegendGraphic&LAYER=Chl_MIM_mean&PALETTE=rt2_sses',\n",
       "  'title': 'boxfill/rt2_sses'},\n",
       " 'boxfill/rt2_sst': {'legend': 'http://ereeftds.bom.gov.au/ereefs/tds/wms/ereefs/mwq_gridAgg_P1A?REQUEST=GetLegendGraphic&LAYER=Chl_MIM_mean&PALETTE=rt2_sst',\n",
       "  'title': 'boxfill/rt2_sst'},\n",
       " 'boxfill/rt2_ssta': {'legend': 'http://ereeftds.bom.gov.au/ereefs/tds/wms/ereefs/mwq_gridAgg_P1A?REQUEST=GetLegendGraphic&LAYER=Chl_MIM_mean&PALETTE=rt2_ssta',\n",
       "  'title': 'boxfill/rt2_ssta'},\n",
       " 'boxfill/sst_36': {'legend': 'http://ereeftds.bom.gov.au/ereefs/tds/wms/ereefs/mwq_gridAgg_P1A?REQUEST=GetLegendGraphic&LAYER=Chl_MIM_mean&PALETTE=sst_36',\n",
       "  'title': 'boxfill/sst_36'}}"
      ]
     },
     "execution_count": 31,
     "metadata": {},
     "output_type": "execute_result"
    }
   ],
   "source": [
    "wms['Chl_MIM_mean'].styles"
   ]
  },
  {
   "cell_type": "code",
   "execution_count": 33,
   "metadata": {},
   "outputs": [
    {
     "data": {
      "text/plain": [
       "['image/png',\n",
       " 'image/png;mode=32bit',\n",
       " 'image/gif',\n",
       " 'image/jpeg',\n",
       " 'application/vnd.google-earth.kmz']"
      ]
     },
     "execution_count": 33,
     "metadata": {},
     "output_type": "execute_result"
    }
   ],
   "source": [
    "wms.getOperationByName('GetMap').formatOptions"
   ]
  },
  {
   "cell_type": "markdown",
   "metadata": {},
   "source": [
    "Now we have information about the layer we can make a request for a map."
   ]
  },
  {
   "cell_type": "code",
   "execution_count": 34,
   "metadata": {},
   "outputs": [
    {
     "data": {
      "text/plain": [
       "['__class__',\n",
       " '__delattr__',\n",
       " '__dict__',\n",
       " '__dir__',\n",
       " '__doc__',\n",
       " '__eq__',\n",
       " '__format__',\n",
       " '__ge__',\n",
       " '__getattribute__',\n",
       " '__gt__',\n",
       " '__hash__',\n",
       " '__init__',\n",
       " '__le__',\n",
       " '__lt__',\n",
       " '__module__',\n",
       " '__ne__',\n",
       " '__new__',\n",
       " '__reduce__',\n",
       " '__reduce_ex__',\n",
       " '__repr__',\n",
       " '__setattr__',\n",
       " '__sizeof__',\n",
       " '__str__',\n",
       " '__subclasshook__',\n",
       " '__weakref__',\n",
       " '_children',\n",
       " 'abstract',\n",
       " 'boundingBox',\n",
       " 'boundingBoxWGS84',\n",
       " 'cascaded',\n",
       " 'children',\n",
       " 'crsOptions',\n",
       " 'dataUrls',\n",
       " 'defaulttimeposition',\n",
       " 'elevations',\n",
       " 'fixedHeight',\n",
       " 'fixedWidth',\n",
       " 'id',\n",
       " 'index',\n",
       " 'keywords',\n",
       " 'layers',\n",
       " 'metadataUrls',\n",
       " 'name',\n",
       " 'noSubsets',\n",
       " 'opaque',\n",
       " 'parent',\n",
       " 'queryable',\n",
       " 'scaleHint',\n",
       " 'styles',\n",
       " 'timepositions',\n",
       " 'title']"
      ]
     },
     "execution_count": 34,
     "metadata": {},
     "output_type": "execute_result"
    }
   ],
   "source": [
    "dir(wms['Chl_MIM_mean'])"
   ]
  },
  {
   "cell_type": "code",
   "execution_count": 35,
   "metadata": {},
   "outputs": [
    {
     "data": {
      "text/plain": [
       "['\\n                          2002-01-01T00:00:00.000Z',\n",
       " '2003-01-01T00:00:00.000Z',\n",
       " '2004-01-01T00:00:00.000Z',\n",
       " '2005-01-01T00:00:00.000Z',\n",
       " '2006-01-01T00:00:00.000Z',\n",
       " '2007-01-01T00:00:00.000Z',\n",
       " '2008-01-01T00:00:00.000Z',\n",
       " '2009-01-01T00:00:00.000Z',\n",
       " '2010-01-01T00:00:00.000Z',\n",
       " '2011-01-01T00:00:00.000Z',\n",
       " '2012-01-01T00:00:00.000Z',\n",
       " '2013-01-01T00:00:00.000Z',\n",
       " '2014-01-01T00:00:00.000Z',\n",
       " '2015-01-01T00:00:00.000Z',\n",
       " '2016-01-01T00:00:00.000Z']"
      ]
     },
     "execution_count": 35,
     "metadata": {},
     "output_type": "execute_result"
    }
   ],
   "source": [
    "wms['Chl_MIM_mean'].timepositions"
   ]
  },
  {
   "cell_type": "code",
   "execution_count": 38,
   "metadata": {},
   "outputs": [],
   "source": [
    "img = wms.getmap(layers = ['Chl_MIM_mean'], \n",
    "                 srs='EPSG:4326',\n",
    "                 bbox=(-20,145,-10,155),\n",
    "                 size=(300,200),\n",
    "                 format='image/png')"
   ]
  },
  {
   "cell_type": "code",
   "execution_count": null,
   "metadata": {},
   "outputs": [],
   "source": [
    "out=open('mapimage.png', 'wb')"
   ]
  },
  {
   "cell_type": "code",
   "execution_count": null,
   "metadata": {},
   "outputs": [],
   "source": [
    "out.write(img.read())"
   ]
  },
  {
   "cell_type": "code",
   "execution_count": null,
   "metadata": {},
   "outputs": [],
   "source": []
  }
 ],
 "metadata": {
  "kernelspec": {
   "display_name": "Python 3",
   "language": "python",
   "name": "python3"
  },
  "language_info": {
   "codemirror_mode": {
    "name": "ipython",
    "version": 3
   },
   "file_extension": ".py",
   "mimetype": "text/x-python",
   "name": "python",
   "nbconvert_exporter": "python",
   "pygments_lexer": "ipython3",
   "version": "3.5.2"
  }
 },
 "nbformat": 4,
 "nbformat_minor": 2
}
