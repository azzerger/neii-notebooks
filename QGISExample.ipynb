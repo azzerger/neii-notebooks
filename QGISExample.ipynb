{
 "cells": [
  {
   "cell_type": "markdown",
   "metadata": {},
   "source": [
    "# Accessing NEII Services using a Desktop GIS"
   ]
  },
  {
   "cell_type": "markdown",
   "metadata": {},
   "source": [
    "NEII services can be accessed using desktop GIS systems that support OGC services.\n",
    "This tutorial demonstrates how to use QGIS to access NEII services. It demonstrates how to read the NEMSR GeoJSON service (not an OGC standard but QGIS can read the GeoJSON files), and how to access a Web Feature Service (WFS). A query is then made that selects NEMSR monitoring sites based on a geographic feature from the WFS."
   ]
  },
  {
   "cell_type": "markdown",
   "metadata": {},
   "source": [
    "## Download and Install QGIS"
   ]
  },
  {
   "cell_type": "markdown",
   "metadata": {},
   "source": [
    "QGIS can be installed on Windows, Linux or Mac. Download and install the appropriate version for your platform from http://www.qgis.org/en/site/forusers/download.html"
   ]
  },
  {
   "cell_type": "markdown",
   "metadata": {},
   "source": [
    "Now start QGIS using the desktop/start menu icon."
   ]
  },
  {
   "cell_type": "markdown",
   "metadata": {},
   "source": [
    "## Connecting to the NEMSR GeoJSON service"
   ]
  },
  {
   "cell_type": "markdown",
   "metadata": {},
   "source": [
    "By connecting to NEMSR GeoJSON endpoints we can see NEMSR monitoring sites for the various NEMSR networks."
   ]
  },
  {
   "cell_type": "markdown",
   "metadata": {},
   "source": [
    "In this example we will connect to the NEMSR 'AcornSAT' network which is available at the following URL: TO DO *********"
   ]
  },
  {
   "cell_type": "markdown",
   "metadata": {},
   "source": [
    "Start by selecting the *Layer* menu and choose *Add Vector Layer*"
   ]
  },
  {
   "cell_type": "markdown",
   "metadata": {},
   "source": [
    "<img src=\"images/qgis/qgis1.png\" alt=\"QGIS Screenshot\" style=\"width: 800px\"/>"
   ]
  },
  {
   "cell_type": "markdown",
   "metadata": {},
   "source": [
    "Now select type *GeoJSON* and add the AcornSAT URI."
   ]
  },
  {
   "cell_type": "markdown",
   "metadata": {},
   "source": [
    "<img src=\"images/qgis/qgis2.png\" alt=\"QGIS Screenshot\" style=\"width: 800px\"/>"
   ]
  },
  {
   "cell_type": "markdown",
   "metadata": {},
   "source": [
    "QGIS should then retrieve the AcornSAT network from the GeoJSON endpoint."
   ]
  },
  {
   "cell_type": "markdown",
   "metadata": {},
   "source": [
    "*Tip: if this is slow you can download the GeoJSON manually and add it as a file*"
   ]
  },
  {
   "cell_type": "markdown",
   "metadata": {},
   "source": [
    "<img src=\"images/qgis/qgis3.png\" alt=\"QGIS Screenshot\" style=\"width: 800px\"/>"
   ]
  },
  {
   "cell_type": "markdown",
   "metadata": {},
   "source": [
    "Now lets connect to a WFS found in the NEII Catalogue (http://neii.gov.au/catalogue). We will use the World Heritage Areas WFS."
   ]
  },
  {
   "cell_type": "markdown",
   "metadata": {},
   "source": [
    "As before, select the *Layer* menu but this time select *Add WFS Layer* and add the World Heritage WFS."
   ]
  },
  {
   "cell_type": "markdown",
   "metadata": {},
   "source": [
    "<img src=\"images/qgis/qgis4.png\" alt=\"QGIS Screenshot\" style=\"width: 800px\"/>"
   ]
  },
  {
   "cell_type": "markdown",
   "metadata": {},
   "source": [
    "The world heritage sites layer should now appear as polygons on the map"
   ]
  },
  {
   "cell_type": "markdown",
   "metadata": {},
   "source": [
    "<img src=\"images/qgis/qgis5.png\" alt=\"QGIS Screenshot\" style=\"width: 800px\"/>"
   ]
  },
  {
   "cell_type": "markdown",
   "metadata": {},
   "source": [
    "<img src=\"images/qgis/qgis6.png\" alt=\"QGIS Screenshot\" style=\"width: 800px\"/>"
   ]
  },
  {
   "cell_type": "markdown",
   "metadata": {},
   "source": [
    "Now we have two layers we can do a geospatial query. Here we select all the AcornSAT monitoring sites that can be found in World Heritage Areas."
   ]
  },
  {
   "cell_type": "markdown",
   "metadata": {},
   "source": [
    "<img src=\"images/qgis/qgis7.png\" alt=\"QGIS Screenshot\" style=\"width: 800px\"/>"
   ]
  },
  {
   "cell_type": "markdown",
   "metadata": {},
   "source": [
    "And here are the results. It turns out there are only two AcornSat monitoring sites in World Heritage Areas - one on Lord Howe Island and one on Macquarie Island."
   ]
  },
  {
   "cell_type": "markdown",
   "metadata": {},
   "source": [
    "<img src=\"images/qgis/qgis8.png\" alt=\"QGIS Screenshot\" style=\"width: 800px\"/>"
   ]
  },
  {
   "cell_type": "markdown",
   "metadata": {},
   "source": [
    "Go [back](../jupyter-notebooks/) to index."
   ]
  },
  {
   "cell_type": "code",
   "execution_count": null,
   "metadata": {},
   "outputs": [],
   "source": []
  }
 ],
 "metadata": {
  "kernelspec": {
   "display_name": "Python 3",
   "language": "python",
   "name": "python3"
  },
  "language_info": {
   "codemirror_mode": {
    "name": "ipython",
    "version": 3
   },
   "file_extension": ".py",
   "mimetype": "text/x-python",
   "name": "python",
   "nbconvert_exporter": "python",
   "pygments_lexer": "ipython3",
   "version": "3.5.2"
  }
 },
 "nbformat": 4,
 "nbformat_minor": 2
}
