{
 "cells": [
  {
   "cell_type": "markdown",
   "metadata": {},
   "source": [
    "# Accessing NEII with Python"
   ]
  },
  {
   "cell_type": "markdown",
   "metadata": {},
   "source": [
    "This notebook demonstrates how to programmatically access the National Environmental Information Infrastructure catalogue and data services using Python."
   ]
  },
  {
   "cell_type": "code",
   "execution_count": 10,
   "metadata": {},
   "outputs": [],
   "source": [
    "from owslib.csw import CatalogueServiceWeb"
   ]
  },
  {
   "cell_type": "code",
   "execution_count": 11,
   "metadata": {},
   "outputs": [],
   "source": [
    "from owslib import fes"
   ]
  },
  {
   "cell_type": "code",
   "execution_count": 12,
   "metadata": {},
   "outputs": [],
   "source": [
    "c=CatalogueServiceWeb('http://neii.bom.gov.au/services/catalogue/csw')"
   ]
  },
  {
   "cell_type": "code",
   "execution_count": 77,
   "metadata": {},
   "outputs": [],
   "source": [
    "textQuery= fes.PropertyIsLike('csw:AnyText', 'Solar')"
   ]
  },
  {
   "cell_type": "code",
   "execution_count": 78,
   "metadata": {},
   "outputs": [],
   "source": [
    "c.getrecords2(constraints=[textQuery], esn='full', maxrecords=10)"
   ]
  },
  {
   "cell_type": "code",
   "execution_count": 84,
   "metadata": {},
   "outputs": [
    {
     "data": {
      "text/plain": [
       "1"
      ]
     },
     "execution_count": 84,
     "metadata": {},
     "output_type": "execute_result"
    }
   ],
   "source": [
    "c.results['matches']"
   ]
  },
  {
   "cell_type": "markdown",
   "metadata": {},
   "source": [
    "Now loop through the results. c.records is a dictionary object so you need to access each item in the dictionary in turn. The following code access a few key properties including the service urls to see if there are any data services for the record."
   ]
  },
  {
   "cell_type": "code",
   "execution_count": 83,
   "metadata": {},
   "outputs": [
    {
     "name": "stdout",
     "output_type": "stream",
     "text": [
      "***********Record summary ************ \n",
      "\n",
      "ID:34b50bab-8124-4c78-a1d1-a0a83601ec56\n",
      "Australian Gridded Solar Climatology Web Data Services\n",
      "These datasets are long term averages of solar radiation at the surface over the Australian land mass. Applications of these data include solar energy, agriculture, building thermal design and water balance modelling. Climatologies are given for two radiation parameters: the global horizontal exposure, which is the total amount of solar energy falling on a horizontal surface over a time interval; and the direct normal exposure which is the total of the component of radiation from the sun’s disk on a plane perpendicular to the beam. Climatologies of daily exposure are given as an annual average and as a set of twelve monthly averages. Climatologies of the diurnal cycle are given as monthly averages of hourly exposures through the day. These data sets are derived from 23 years (1990 - 2012) of data from satellites operated by Japan Meteorological Agency and the US National Oceanographic & Atmospheric Administration. NEII\n",
      "Solar Climatology - Monthly-hourly climatology of hourly exposure (Global Horizontal Exposure) - Web Map Service\n",
      "http://neii.bom.gov.au/services/solarclim/wms/data/monClim_gloHorExp1Hou.nc?service=WMS&version=1.3.0&request=GetCapabilities\n",
      "\n",
      "Solar Climatology - Monthly-hourly climatology of hourly exposure (Direct Normal Exposure) - Web Map Service\n",
      "http://neii.bom.gov.au/services/solarclim/wms/data/monClim_dirNorExp1Hou.nc?service=WMS&version=1.3.0&request=GetCapabilities\n",
      "\n",
      "Solar Climatology - Monthly climatology of daily exposure (Global Horizontal Exposure) - Web Map Service\n",
      "http://neii.bom.gov.au/services/solarclim/wms/data/monClim_gloHorExp1Day.nc?service=WMS&version=1.3.0&request=GetCapabilities\n",
      "\n",
      "Solar Climatology - Monthly climatology of daily exposure (Direct Normal Exposure) - Web Map Service\n",
      "http://neii.bom.gov.au/services/solarclim/wms/data/monClim_dirNorExp1Day.nc?service=WMS&version=1.3.0&request=GetCapabilities\n",
      "\n",
      "Solar Climatology - Annual climatology of daily exposure (Global Horizontal Exposure) - Web Map Service\n",
      "http://neii.bom.gov.au/services/solarclim/wms/data/annClim_gloHorExp1Day.nc?service=WMS&version=1.3.0&request=GetCapabilities\n",
      "\n",
      "Solar Climatology - Annual climatology of daily exposure (Direct Normal Exposure) - Web Map Service\n",
      "http://neii.bom.gov.au/services/solarclim/wms/data/annClim_dirNorExp1Day.nc?service=WMS&version=1.3.0&request=GetCapabilities\n",
      "\n",
      "Solar Climatology - Solar Climatology data products - OPeNDAP (XML)\n",
      "http://neii.bom.gov.au/services/solarclim/catalog.xml\n",
      "\n",
      "***********End of record summary ************ \n",
      "\n"
     ]
    }
   ],
   "source": [
    "for record in c.records:\n",
    "    cswRecord = c.records[record]\n",
    "    print ('*********** Record summary ************ \\n')\n",
    "    print ('ID:' + cswRecord.identifier)\n",
    "    print (cswRecord.title)\n",
    "    print (cswRecord.abstract)\n",
    "    for service in cswRecord.uris:\n",
    "        print (service['name']) \n",
    "        print (service['url'] + '\\n')\n",
    "    print ('*********** End of summary ************ \\n')"
   ]
  },
  {
   "cell_type": "code",
   "execution_count": 55,
   "metadata": {},
   "outputs": [
    {
     "data": {
      "text/plain": [
       "b'<csw:SummaryRecord xmlns:csw=\"http://www.opengis.net/cat/csw/2.0.2\" xmlns:dc=\"http://purl.org/dc/elements/1.1/\" xmlns:dct=\"http://purl.org/dc/terms/\">\\n      <dc:identifier>34b50bab-8124-4c78-a1d1-a0a83601ec56</dc:identifier>\\n      <dc:title>Australian Gridded Solar Climatology Web Data Services</dc:title>\\n      <dc:type>dataset</dc:type>\\n      <dc:subject>WMS</dc:subject>\\n      <dc:subject>OPeNDAP</dc:subject>\\n      <dc:subject>Gridded</dc:subject>\\n      <dc:subject>Satellite</dc:subject>\\n      <dc:subject>Solar</dc:subject>\\n      <dc:subject>Radiation</dc:subject>\\n      <dc:subject>Meteorology</dc:subject>\\n      <dc:subject>National Environmental Information Infrastructure</dc:subject>\\n      <dc:subject>neii.gov.au</dc:subject>\\n      <dc:format>OGC:OWS Context</dc:format>\\n      <dct:abstract>These datasets are long term averages of solar radiation at the surface over the Australian land mass. Applications of these data include solar energy, agriculture, building thermal design and water balance modelling. Climatologies are given for two radiation parameters: the global horizontal exposure, which is the total amount of solar energy falling on a horizontal surface over a time interval; and the direct normal exposure which is the total of the component of radiation from the sun&#8217;s disk on a plane perpendicular to the beam. Climatologies of daily exposure are given as an annual average and as a set of twelve monthly averages. Climatologies of the diurnal cycle are given as monthly averages of hourly exposures through the day. These data sets are derived from 23 years (1990 - 2012) of data from satellites operated by Japan Meteorological Agency and the US National Oceanographic &amp; Atmospheric Administration. NEII</dct:abstract>\\n    </csw:SummaryRecord>\\n  '"
      ]
     },
     "execution_count": 55,
     "metadata": {},
     "output_type": "execute_result"
    }
   ],
   "source": [
    "cswRecord.xml"
   ]
  },
  {
   "cell_type": "code",
   "execution_count": 74,
   "metadata": {},
   "outputs": [
    {
     "name": "stdout",
     "output_type": "stream",
     "text": [
      "eReefs - Marine Water Quality product (Daily Composites) - Web Map Service\n",
      "http://ereeftds.bom.gov.au/ereefs/tds/wms/ereefs/mwq_gridAgg_P1D?service=WMS&version=1.3.0&request=GetCapabilities\n",
      "\n",
      "eReefs - Marine Water Quality product (Weekly Composites) - Web Map Service\n",
      "http://ereeftds.bom.gov.au/ereefs/tds/wms/ereefs/mwq_gridAgg_P1W?service=WMS&version=1.3.0&request=GetCapabilities\n",
      "\n",
      "eReefs - Marine Water Quality product (Monthly Composites) - Web Map Service\n",
      "http://ereeftds.bom.gov.au/ereefs/tds/wms/ereefs/mwq_gridAgg_P1M?service=WMS&version=1.3.0&request=GetCapabilities\n",
      "\n",
      "eReefs - Marine Water Quality product (Seasonal Composites) - Web Map Service\n",
      "http://ereeftds.bom.gov.au/ereefs/tds/wms/ereefs/mwq_gridAgg_P6M?service=WMS&version=1.3.0&request=GetCapabilities\n",
      "\n",
      "eReefs - Marine Water Quality product (Annual Composites) - Web Map Service\n",
      "http://ereeftds.bom.gov.au/ereefs/tds/wms/ereefs/mwq_gridAgg_P1A?service=WMS&version=1.3.0&request=GetCapabilities\n",
      "\n",
      "eReefs - Marine Water Quality Products - OPeNDAP (XML)\n",
      "http://ereeftds.bom.gov.au/ereefs/tds/catalog/ereef/mwq/catalog.xml\n",
      "\n",
      "None\n",
      "http://eos.ga.gov.au/geoserver/ows?service=wms&version=1.3.0&request=GetCapabilities\n",
      "\n",
      "Australian Hydrological Geospatial Fabric (Geofabric) - Web Map Service\n",
      "http://geofabric.bom.gov.au/simplefeatures/ows?service=wms&version=1.3.0&request=GetCapabilities\n",
      "\n",
      "Australian Hydrological Geospatial Fabric (Geofabric) - Web Feature Service\n",
      "http://geofabric.bom.gov.au/simplefeatures/ows?service=wfs&version=2.0.0&request=GetCapabilities\n",
      "\n",
      "WMS (OGC)\n",
      "http://www.environment.gov.au/mapping/services/ogc_services/Important_Wetlands/MapServer/WMSServer\n",
      "\n",
      "WFS (OGC)\n",
      "http://www.environment.gov.au/mapping/services/ogc_services/Important_Wetlands/MapServer/WFSServer\n",
      "\n",
      "Environmental information and data\n",
      "http://www.environment.gov.au/about-us/environmental-information-data\n",
      "\n",
      "None\n",
      "http://intspat01.ris.environment.gov.au/metadata_int/images/ANZCW0501003820.jpg\n",
      "\n",
      "None\n",
      "http://www.ga.gov.au/gis/services/topography/AusHydro/MapServer/WMSServer?request=GetCapabilities&service=WMS\n",
      "\n",
      "AusHydro WMS\n",
      "http://www.ga.gov.au/gis/services/topography/AusHydro/MapServer/WMSServer?request=GetCapabilities&service=WMS\n",
      "\n",
      "WMS (OGC)\n",
      "http://www.environment.gov.au/mapping/services/ogc_services/capad/MapServer/WMSServer\n",
      "\n",
      "WFS (OGC)\n",
      "http://www.environment.gov.au/mapping/services/ogc_services/capad/MapServer/WFSServer\n",
      "\n",
      "Environmental information and data\n",
      "http://www.environment.gov.au/about-us/environmental-information-data\n",
      "\n",
      "eReefs - ReefTemp Next Generation product (Daily Composites - Sea Surface Temperature variables) - Web Map Service\n",
      "http://ereeftds.bom.gov.au/ereefs/tds/wms/ereefs/RT2_gridAgg_P1D_SST?service=WMS&version=1.3.0&request=GetCapabilities\n",
      "\n",
      "eReefs - ReefTemp Next Generation product (Daily Composites - Degree Heating Days variables) - Web Map Service\n",
      "http://ereeftds.bom.gov.au/ereefs/tds/wms/ereefs/RT2_gridAgg_P1D_DHD?service=WMS&version=1.3.0&request=GetCapabilities\n",
      "\n",
      "eReefs - ReefTemp Next Generation product (Daily Composites - Error variables) - Web Map Service\n",
      "http://ereeftds.bom.gov.au/ereefs/tds/wms/ereefs/RT2_gridAgg_P1D_ERR?service=WMS&version=1.3.0&request=GetCapabilities\n",
      "\n",
      "eReefs - ReefTemp Next Generation product (Weekly Composites) - Web Map Service\n",
      "http://ereeftds.bom.gov.au/ereefs/tds/wms/ereefs/RT2_gridAgg_P1W?service=WMS&version=1.3.0&request=GetCapabilities\n",
      "\n",
      "eReefs - ReefTemp Next Generation product (Monthly Composites) - Web Map Service\n",
      "http://ereeftds.bom.gov.au/ereefs/tds/wms/ereefs/RT2_gridAgg_P1M?service=WMS&version=1.3.0&request=GetCapabilities\n",
      "\n",
      "eReefs - ReefTemp Next Generation product (Seasonal Composites) - Web Map Service\n",
      "http://ereeftds.bom.gov.au/ereefs/tds/wms/ereefs/RT2_gridAgg_P6M?service=WMS&version=1.3.0&request=GetCapabilities\n",
      "\n",
      "eReefs - ReefTemp Next Generation product (Annual Composites) - Web Map Service\n",
      "http://ereeftds.bom.gov.au/ereefs/tds/wms/ereefs/RT2_gridAgg_P1A?service=WMS&version=1.3.0&request=GetCapabilities\n",
      "\n",
      "eReefs - Reeftemp Next Generation product - OPeNDAP (XML)\n",
      "http://ereeftds.bom.gov.au/ereefs/tds/catalog/ereef/reeftemp/catalog.xml\n",
      "\n",
      "WMS (OGC)\n",
      "http://www.environment.gov.au/mapping/services/ogc_services/Key_Ecological_Features/MapServer/WMSServer\n",
      "\n",
      "WMS (OGC)\n",
      "http://www.environment.gov.au/mapping/services/ogc_services/Key_Ecological_Features_named/MapServer/WMSServer\n",
      "\n",
      "WFS (OGC)\n",
      "http://www.environment.gov.au/mapping/services/ogc_services/Key_Ecological_Features/MapServer/WFSServer\n",
      "\n",
      "Environmental information and data\n",
      "http://www.environment.gov.au/about-us/environmental-information-data\n",
      "\n",
      "Solar Climatology - Monthly-hourly climatology of hourly exposure (Global Horizontal Exposure) - Web Map Service\n",
      "http://neii.bom.gov.au/services/solarclim/wms/data/monClim_gloHorExp1Hou.nc?service=WMS&version=1.3.0&request=GetCapabilities\n",
      "\n",
      "Solar Climatology - Monthly-hourly climatology of hourly exposure (Direct Normal Exposure) - Web Map Service\n",
      "http://neii.bom.gov.au/services/solarclim/wms/data/monClim_dirNorExp1Hou.nc?service=WMS&version=1.3.0&request=GetCapabilities\n",
      "\n",
      "Solar Climatology - Monthly climatology of daily exposure (Global Horizontal Exposure) - Web Map Service\n",
      "http://neii.bom.gov.au/services/solarclim/wms/data/monClim_gloHorExp1Day.nc?service=WMS&version=1.3.0&request=GetCapabilities\n",
      "\n",
      "Solar Climatology - Monthly climatology of daily exposure (Direct Normal Exposure) - Web Map Service\n",
      "http://neii.bom.gov.au/services/solarclim/wms/data/monClim_dirNorExp1Day.nc?service=WMS&version=1.3.0&request=GetCapabilities\n",
      "\n",
      "Solar Climatology - Annual climatology of daily exposure (Global Horizontal Exposure) - Web Map Service\n",
      "http://neii.bom.gov.au/services/solarclim/wms/data/annClim_gloHorExp1Day.nc?service=WMS&version=1.3.0&request=GetCapabilities\n",
      "\n",
      "Solar Climatology - Annual climatology of daily exposure (Direct Normal Exposure) - Web Map Service\n",
      "http://neii.bom.gov.au/services/solarclim/wms/data/annClim_dirNorExp1Day.nc?service=WMS&version=1.3.0&request=GetCapabilities\n",
      "\n",
      "Solar Climatology - Solar Climatology data products - OPeNDAP (XML)\n",
      "http://neii.bom.gov.au/services/solarclim/catalog.xml\n",
      "\n"
     ]
    }
   ],
   "source": [
    "for record in c.records:\n",
    "    cswRecord = c.records[record]\n",
    "    for service in cswRecord.uris:\n",
    "        print (service['name']) \n",
    "        print (service['url'] + '\\n')\n",
    " "
   ]
  },
  {
   "cell_type": "code",
   "execution_count": null,
   "metadata": {},
   "outputs": [],
   "source": []
  }
 ],
 "metadata": {
  "kernelspec": {
   "display_name": "Python 3",
   "language": "python",
   "name": "python3"
  },
  "language_info": {
   "codemirror_mode": {
    "name": "ipython",
    "version": 3
   },
   "file_extension": ".py",
   "mimetype": "text/x-python",
   "name": "python",
   "nbconvert_exporter": "python",
   "pygments_lexer": "ipython3",
   "version": "3.5.2"
  }
 },
 "nbformat": 4,
 "nbformat_minor": 2
}
